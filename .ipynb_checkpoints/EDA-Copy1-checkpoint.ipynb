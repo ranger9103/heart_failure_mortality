{
 "cells": [
  {
   "cell_type": "code",
   "execution_count": null,
   "id": "a8006d82",
   "metadata": {},
   "outputs": [],
   "source": [
    "import pandas as pd\n",
    "import matplotlib.pyplot as plt\n",
    "import matplotlib\n",
    "import seaborn as sns\n",
    "import numpy as np"
   ]
  },
  {
   "cell_type": "code",
   "execution_count": null,
   "id": "6e40ad48",
   "metadata": {},
   "outputs": [],
   "source": [
    "df = pd.read_csv('data.csv')\n",
    "df.head()"
   ]
  },
  {
   "cell_type": "code",
   "execution_count": null,
   "id": "23cdde52",
   "metadata": {},
   "outputs": [],
   "source": [
    "df.isnull().sum()"
   ]
  },
  {
   "cell_type": "code",
   "execution_count": null,
   "id": "7ab4b716",
   "metadata": {},
   "outputs": [],
   "source": [
    "df = df.fillna(df.mean())\n",
    "df.head()"
   ]
  },
  {
   "cell_type": "code",
   "execution_count": null,
   "id": "96ccba83",
   "metadata": {},
   "outputs": [],
   "source": [
    "df[\"outcome\"].replace(\"0.01352040816265307\", \"0.0\")"
   ]
  },
  {
   "cell_type": "code",
   "execution_count": null,
   "id": "1821cbbe",
   "metadata": {},
   "outputs": [],
   "source": [
    "df.isnull().sum()"
   ]
  },
  {
   "cell_type": "code",
   "execution_count": null,
   "id": "0171d7eb",
   "metadata": {},
   "outputs": [],
   "source": [
    "df.gendera.value_counts()"
   ]
  },
  {
   "cell_type": "code",
   "execution_count": null,
   "id": "19b7a8f4",
   "metadata": {},
   "outputs": [],
   "source": [
    "559/(559+618)"
   ]
  },
  {
   "cell_type": "code",
   "execution_count": null,
   "id": "868552e3",
   "metadata": {},
   "outputs": [],
   "source": [
    "618/(559+618)"
   ]
  },
  {
   "cell_type": "code",
   "execution_count": null,
   "id": "17f8e909",
   "metadata": {},
   "outputs": [],
   "source": [
    "df.describe()"
   ]
  },
  {
   "cell_type": "code",
   "execution_count": null,
   "id": "6d56430b",
   "metadata": {
    "scrolled": true
   },
   "outputs": [],
   "source": [
    "df.info()"
   ]
  },
  {
   "cell_type": "code",
   "execution_count": null,
   "id": "f62b958d",
   "metadata": {},
   "outputs": [],
   "source": [
    "df.isnull().sum()"
   ]
  },
  {
   "cell_type": "code",
   "execution_count": null,
   "id": "2518c0e8",
   "metadata": {},
   "outputs": [],
   "source": [
    "df.corr()"
   ]
  },
  {
   "cell_type": "code",
   "execution_count": null,
   "id": "a3c58fc3",
   "metadata": {},
   "outputs": [],
   "source": [
    "col = ['hypertensive','atrialfibrillation', 'CHD with no MI', 'diabetes', 'deficiencyanemias',\n",
    "       'depression', 'Hyperlipemia', 'Renal failure', 'COPD', 'outcome']"
   ]
  },
  {
   "cell_type": "code",
   "execution_count": null,
   "id": "ab7a1adf",
   "metadata": {},
   "outputs": [],
   "source": [
    "#correlation between different comorbidities\n",
    "corr = df[col].corr()\n",
    "corr"
   ]
  },
  {
   "cell_type": "code",
   "execution_count": null,
   "id": "fe02a900",
   "metadata": {},
   "outputs": [],
   "source": [
    "# Use color themes for the project\n",
    "mypalette = ['#aaaaaa', '#60abae','#9fccce','#b7d251','#ffffff']\n",
    "# Set custom color palette\n",
    "sns.set_palette(sns.color_palette(mypalette))"
   ]
  },
  {
   "cell_type": "code",
   "execution_count": null,
   "id": "d86cf044",
   "metadata": {},
   "outputs": [],
   "source": [
    "# correlation heatmap between different comorbidities\n",
    "plt.figure(figsize=(12,8))\n",
    "sns.heatmap(corr, annot=True, cmap=mypalette, linewidths=0.01, linecolor=\"white\");"
   ]
  },
  {
   "cell_type": "code",
   "execution_count": null,
   "id": "200560bb",
   "metadata": {},
   "outputs": [],
   "source": [
    "# combining comorbidities into one column\n",
    "df['Comorbidities'] = df[col].sum(axis=1)\n",
    "df.head()"
   ]
  },
  {
   "cell_type": "code",
   "execution_count": null,
   "id": "ec63cc68",
   "metadata": {},
   "outputs": [],
   "source": [
    "#correlation between number of comorbidities and outcome\n",
    "df[['Comorbidities', 'outcome']].corr()"
   ]
  },
  {
   "cell_type": "code",
   "execution_count": null,
   "id": "625d71fb",
   "metadata": {},
   "outputs": [],
   "source": [
    "#correlation between demographics and outcome\n",
    "col1 = ['outcome', 'age', 'gendera', 'BMI']\n",
    "corr1 = df[col1].corr()\n",
    "corr1"
   ]
  },
  {
   "cell_type": "code",
   "execution_count": null,
   "id": "7b0d5eab",
   "metadata": {},
   "outputs": [],
   "source": [
    "# correlation heatmap between demographics and outcome\n",
    "plt.figure(figsize=(12,8))\n",
    "sns.heatmap(corr1, annot=True, cmap=mypalette, linewidths=0.01, linecolor=\"white\");"
   ]
  },
  {
   "cell_type": "code",
   "execution_count": null,
   "id": "53126329",
   "metadata": {},
   "outputs": [],
   "source": [
    "#scatter plot\n",
    "sns.relplot(x='BMI', y='age', hue='outcome', data=df)"
   ]
  },
  {
   "cell_type": "code",
   "execution_count": null,
   "id": "04703c62",
   "metadata": {},
   "outputs": [],
   "source": [
    "#correlation between different labs and outcome\n",
    "col2 = ['heart rate',\n",
    "       'Systolic blood pressure', 'Diastolic blood pressure',\n",
    "       'Respiratory rate', 'temperature', 'SP O2', 'Urine output',\n",
    "       'hematocrit', 'RBC', 'MCH', 'MCHC', 'MCV', 'RDW', 'Leucocyte',\n",
    "       'Platelets', 'Neutrophils', 'Basophils', 'Lymphocyte', 'PT', 'INR',\n",
    "       'NT-proBNP', 'Creatine kinase', 'Creatinine', 'Urea nitrogen',\n",
    "       'glucose', 'Blood potassium', 'Blood sodium', 'Blood calcium',\n",
    "       'Chloride', 'Anion gap', 'Magnesium ion', 'PH', 'Bicarbonate',\n",
    "       'Lactic acid', 'PCO2', 'EF', 'outcome']\n",
    "corr2 = df[col2].corr()\n",
    "corr2"
   ]
  },
  {
   "cell_type": "code",
   "execution_count": null,
   "id": "5928008c",
   "metadata": {},
   "outputs": [],
   "source": [
    "#correlation heatmap between different labs and outcome\n",
    "plt.figure(figsize=(20,10))\n",
    "sns.heatmap(corr2, annot=True, cmap=mypalette, linewidths=0.01, linecolor=\"white\");"
   ]
  },
  {
   "cell_type": "code",
   "execution_count": null,
   "id": "8e7f584d",
   "metadata": {},
   "outputs": [],
   "source": [
    "#scatter plot\n",
    "sns.relplot(x='Anion gap', y='Lactic acid', hue='outcome', data=df)"
   ]
  },
  {
   "cell_type": "code",
   "execution_count": null,
   "id": "779b0f44",
   "metadata": {},
   "outputs": [],
   "source": [
    "#scatter plot\n",
    "sns.relplot(x='PCO2', y='PH', hue='outcome', data=df)"
   ]
  },
  {
   "cell_type": "code",
   "execution_count": null,
   "id": "707cd0c8",
   "metadata": {
    "scrolled": true
   },
   "outputs": [],
   "source": [
    "#scatter plot\n",
    "sns.relplot(x='PCO2', y='Bicarbonate', hue='outcome', data=df)"
   ]
  },
  {
   "cell_type": "code",
   "execution_count": null,
   "id": "0f794479",
   "metadata": {},
   "outputs": [],
   "source": [
    "#scatter plot\n",
    "sns.relplot(x='Basophils', y='Lymphocyte', hue='outcome', data=df)"
   ]
  },
  {
   "cell_type": "code",
   "execution_count": null,
   "id": "aa90cfcd",
   "metadata": {},
   "outputs": [],
   "source": []
  },
  {
   "cell_type": "code",
   "execution_count": null,
   "id": "8f7e9489",
   "metadata": {},
   "outputs": [],
   "source": []
  },
  {
   "cell_type": "code",
   "execution_count": null,
   "id": "343618d2",
   "metadata": {},
   "outputs": [],
   "source": []
  }
 ],
 "metadata": {
  "kernelspec": {
   "display_name": "Python 3 (ipykernel)",
   "language": "python",
   "name": "python3"
  },
  "language_info": {
   "codemirror_mode": {
    "name": "ipython",
    "version": 3
   },
   "file_extension": ".py",
   "mimetype": "text/x-python",
   "name": "python",
   "nbconvert_exporter": "python",
   "pygments_lexer": "ipython3",
   "version": "3.7.11"
  }
 },
 "nbformat": 4,
 "nbformat_minor": 5
}

{
 "cells": [
  {
   "cell_type": "code",
   "execution_count": 1,
   "id": "79cb2c0f",
   "metadata": {},
   "outputs": [],
   "source": [
    "import pandas as pd\n",
    "import numpy as np\n",
    "from xgboost import XGBClassifier\n",
    "from sklearn import metrics\n",
    "import pickle"
   ]
  },
  {
   "cell_type": "code",
   "execution_count": 2,
   "id": "8d1dd2e0",
   "metadata": {},
   "outputs": [],
   "source": [
    "# load final model\n",
    "filename = 'MortalityPredict_BalancedRandomForest.sav'\n",
    "brf = pickle.load(open(filename, 'rb'))"
   ]
  },
  {
   "cell_type": "code",
   "execution_count": 3,
   "id": "8a6b79d8",
   "metadata": {},
   "outputs": [],
   "source": [
    "content = {'BMI': '30.19', 'Urine output': '1425.5', 'RDW': '15.1', 'Leucocyte': '12.74', 'Lymphocyte': '12.23','Urea nitrogen': '20.33', 'Blood calcium': '8.16', 'Anion gap': '11.45', 'Bicarbonate': '33.44', 'Lactic acid': '0.5', 'INR': '1.6'}"
   ]
  },
  {
   "cell_type": "code",
   "execution_count": 4,
   "id": "67110ab6",
   "metadata": {},
   "outputs": [],
   "source": [
    "# parse input data\n",
    "BMI = float(content['BMI'])\n",
    "Urine_output = float(content['Urine output'])\n",
    "RDW = float(content['RDW'])\n",
    "Leucocyte = float(content['Leucocyte'])\n",
    "Lymphocyte = float(content['Lymphocyte'])\n",
    "Urea_nitrogen = float(content['Urea nitrogen'])\n",
    "Blood_calcium = float(content['Blood calcium'])\n",
    "Anion_gap = float(content['Anion gap'])\n",
    "Bicarbonate = float(content['Bicarbonate'])\n",
    "Lactic_acid = float(content['Lactic acid'])\n",
    "INR = float(content['INR'])"
   ]
  },
  {
   "cell_type": "code",
   "execution_count": 5,
   "id": "c40efcf3",
   "metadata": {},
   "outputs": [],
   "source": [
    "input_pred = [[BMI, Urine_output, RDW, Leucocyte, Lymphocyte, Urea_nitrogen, Blood_calcium, Anion_gap, Bicarbonate, Lactic_acid, INR]]"
   ]
  },
  {
   "cell_type": "code",
   "execution_count": 6,
   "id": "6c5ab76c",
   "metadata": {},
   "outputs": [
    {
     "data": {
      "text/plain": [
       "[[30.19, 1425.5, 15.1, 12.74, 12.23, 20.33, 8.16, 11.45, 33.44, 0.5, 1.6]]"
      ]
     },
     "execution_count": 6,
     "metadata": {},
     "output_type": "execute_result"
    }
   ],
   "source": [
    "input_pred"
   ]
  },
  {
   "cell_type": "code",
   "execution_count": 7,
   "id": "3894374f",
   "metadata": {},
   "outputs": [],
   "source": [
    "X = pd.DataFrame(input_pred, columns = ['BMI', 'Urine output', 'RDW', 'Leucocyte', 'Lymphocyte',\n",
    "       'Urea nitrogen', 'Blood calcium', 'Anion gap', 'Bicarbonate',\n",
    "       'Lactic acid', 'INR'])"
   ]
  },
  {
   "cell_type": "code",
   "execution_count": 8,
   "id": "213c17d3",
   "metadata": {},
   "outputs": [
    {
     "data": {
      "text/html": [
       "<div>\n",
       "<style scoped>\n",
       "    .dataframe tbody tr th:only-of-type {\n",
       "        vertical-align: middle;\n",
       "    }\n",
       "\n",
       "    .dataframe tbody tr th {\n",
       "        vertical-align: top;\n",
       "    }\n",
       "\n",
       "    .dataframe thead th {\n",
       "        text-align: right;\n",
       "    }\n",
       "</style>\n",
       "<table border=\"1\" class=\"dataframe\">\n",
       "  <thead>\n",
       "    <tr style=\"text-align: right;\">\n",
       "      <th></th>\n",
       "      <th>BMI</th>\n",
       "      <th>Urine output</th>\n",
       "      <th>RDW</th>\n",
       "      <th>Leucocyte</th>\n",
       "      <th>Lymphocyte</th>\n",
       "      <th>Urea nitrogen</th>\n",
       "      <th>Blood calcium</th>\n",
       "      <th>Anion gap</th>\n",
       "      <th>Bicarbonate</th>\n",
       "      <th>Lactic acid</th>\n",
       "      <th>INR</th>\n",
       "    </tr>\n",
       "  </thead>\n",
       "  <tbody>\n",
       "    <tr>\n",
       "      <th>0</th>\n",
       "      <td>30.19</td>\n",
       "      <td>1425.5</td>\n",
       "      <td>15.1</td>\n",
       "      <td>12.74</td>\n",
       "      <td>12.23</td>\n",
       "      <td>20.33</td>\n",
       "      <td>8.16</td>\n",
       "      <td>11.45</td>\n",
       "      <td>33.44</td>\n",
       "      <td>0.5</td>\n",
       "      <td>1.6</td>\n",
       "    </tr>\n",
       "  </tbody>\n",
       "</table>\n",
       "</div>"
      ],
      "text/plain": [
       "     BMI  Urine output   RDW  Leucocyte  Lymphocyte  Urea nitrogen  \\\n",
       "0  30.19        1425.5  15.1      12.74       12.23          20.33   \n",
       "\n",
       "   Blood calcium  Anion gap  Bicarbonate  Lactic acid  INR  \n",
       "0           8.16      11.45        33.44          0.5  1.6  "
      ]
     },
     "execution_count": 8,
     "metadata": {},
     "output_type": "execute_result"
    }
   ],
   "source": [
    "X"
   ]
  },
  {
   "cell_type": "code",
   "execution_count": 10,
   "id": "dc06c673",
   "metadata": {},
   "outputs": [
    {
     "data": {
      "text/plain": [
       "array([[-0.00168444, -0.37197291, -0.40128676,  0.40371912, -0.04098464,\n",
       "        -0.72689597, -0.60918679, -0.92430539,  1.26668496, -1.52982701,\n",
       "        -0.05096801]])"
      ]
     },
     "execution_count": 10,
     "metadata": {},
     "output_type": "execute_result"
    }
   ],
   "source": [
    "# load scaler\n",
    "import joblib\n",
    "sc=joblib.load('std_scaler.bin')\n",
    "X = sc.transform(X)\n",
    "X"
   ]
  },
  {
   "cell_type": "code",
   "execution_count": 11,
   "id": "4190a0c5",
   "metadata": {},
   "outputs": [
    {
     "data": {
      "text/plain": [
       "0.0"
      ]
     },
     "execution_count": 11,
     "metadata": {},
     "output_type": "execute_result"
    }
   ],
   "source": [
    "preds_singular = brf.predict(X)\n",
    "preds_singular[0]"
   ]
  },
  {
   "cell_type": "code",
   "execution_count": null,
   "id": "62a1b099",
   "metadata": {},
   "outputs": [],
   "source": []
  },
  {
   "cell_type": "code",
   "execution_count": null,
   "id": "adddd05e",
   "metadata": {},
   "outputs": [],
   "source": []
  }
 ],
 "metadata": {
  "kernelspec": {
   "display_name": "Python 3 (ipykernel)",
   "language": "python",
   "name": "python3"
  },
  "language_info": {
   "codemirror_mode": {
    "name": "ipython",
    "version": 3
   },
   "file_extension": ".py",
   "mimetype": "text/x-python",
   "name": "python",
   "nbconvert_exporter": "python",
   "pygments_lexer": "ipython3",
   "version": "3.9.7"
  }
 },
 "nbformat": 4,
 "nbformat_minor": 5
}

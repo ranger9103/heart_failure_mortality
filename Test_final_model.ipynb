{
 "cells": [
  {
   "cell_type": "code",
   "execution_count": 1,
   "id": "79cb2c0f",
   "metadata": {},
   "outputs": [],
   "source": [
    "import pandas as pd\n",
    "import numpy as np\n",
    "from sklearn.ensemble import ExtraTreesClassifier\n",
    "from sklearn import metrics\n",
    "import pickle"
   ]
  },
  {
   "cell_type": "code",
   "execution_count": 2,
   "id": "8d1dd2e0",
   "metadata": {},
   "outputs": [],
   "source": [
    "# load final model\n",
    "filename = 'MortalityPredict_ExtraTreesClassifier.sav'\n",
    "et = pickle.load(open(filename, 'rb'))"
   ]
  },
  {
   "cell_type": "code",
   "execution_count": 3,
   "id": "8a6b79d8",
   "metadata": {},
   "outputs": [],
   "source": [
    "content = {'Anion gap': '13.1', 'Bicarbonate': '21.1', 'Lactic acid': '0.5', 'Leucocyte': '7.6',\n",
    "       'Urine output': '2155.3', 'RDW': '16.22', 'INR': '1', 'Comorbidities': '4',\n",
    "       'Systolic blood pressure': '168.5', 'Diastolic blood pressure': '68.3'}"
   ]
  },
  {
   "cell_type": "code",
   "execution_count": 4,
   "id": "67110ab6",
   "metadata": {},
   "outputs": [],
   "source": [
    "# parse input data\n",
    "RDW = float(content['RDW'])\n",
    "Urine_output = float(content['Urine output'])\n",
    "Comorbidities = int(content['Comorbidities'])\n",
    "Leucocyte = float(content['Leucocyte'])\n",
    "Anion_gap = float(content['Anion gap'])\n",
    "Bicarbonate = float(content['Bicarbonate'])\n",
    "Lactic_acid = float(content['Lactic acid'])\n",
    "INR = float(content['INR'])\n",
    "Systolic_blood_pressure = float(content['Systolic blood pressure'])\n",
    "Diastolic_blood_pressure = float(content['Diastolic blood pressure'])"
   ]
  },
  {
   "cell_type": "code",
   "execution_count": 5,
   "id": "c40efcf3",
   "metadata": {},
   "outputs": [],
   "source": [
    "input_pred = [[Anion_gap, Bicarbonate, Lactic_acid, Leucocyte,\n",
    "       Urine_output, RDW, INR, Comorbidities,\n",
    "       Systolic_blood_pressure, Diastolic_blood_pressure]]"
   ]
  },
  {
   "cell_type": "code",
   "execution_count": 6,
   "id": "6c5ab76c",
   "metadata": {},
   "outputs": [
    {
     "data": {
      "text/plain": [
       "[[13.1, 21.1, 0.5, 7.6, 2155.3, 16.22, 1.0, 4, 168.5, 68.3]]"
      ]
     },
     "execution_count": 6,
     "metadata": {},
     "output_type": "execute_result"
    }
   ],
   "source": [
    "input_pred"
   ]
  },
  {
   "cell_type": "code",
   "execution_count": 7,
   "id": "3894374f",
   "metadata": {},
   "outputs": [],
   "source": [
    "X = pd.DataFrame(input_pred, columns = ['Anion gap', 'Bicarbonate', 'Lactic acid', 'Leucocyte',\n",
    "       'Urine output', 'RDW', 'INR', 'Comorbidities',\n",
    "       'Systolic blood pressure', 'Diastolic blood pressure'])"
   ]
  },
  {
   "cell_type": "code",
   "execution_count": 8,
   "id": "213c17d3",
   "metadata": {},
   "outputs": [
    {
     "data": {
      "text/html": [
       "<div>\n",
       "<style scoped>\n",
       "    .dataframe tbody tr th:only-of-type {\n",
       "        vertical-align: middle;\n",
       "    }\n",
       "\n",
       "    .dataframe tbody tr th {\n",
       "        vertical-align: top;\n",
       "    }\n",
       "\n",
       "    .dataframe thead th {\n",
       "        text-align: right;\n",
       "    }\n",
       "</style>\n",
       "<table border=\"1\" class=\"dataframe\">\n",
       "  <thead>\n",
       "    <tr style=\"text-align: right;\">\n",
       "      <th></th>\n",
       "      <th>Anion gap</th>\n",
       "      <th>Bicarbonate</th>\n",
       "      <th>Lactic acid</th>\n",
       "      <th>Leucocyte</th>\n",
       "      <th>Urine output</th>\n",
       "      <th>RDW</th>\n",
       "      <th>INR</th>\n",
       "      <th>Comorbidities</th>\n",
       "      <th>Systolic blood pressure</th>\n",
       "      <th>Diastolic blood pressure</th>\n",
       "    </tr>\n",
       "  </thead>\n",
       "  <tbody>\n",
       "    <tr>\n",
       "      <th>0</th>\n",
       "      <td>13.1</td>\n",
       "      <td>21.1</td>\n",
       "      <td>0.5</td>\n",
       "      <td>7.6</td>\n",
       "      <td>2155.3</td>\n",
       "      <td>16.22</td>\n",
       "      <td>1.0</td>\n",
       "      <td>4</td>\n",
       "      <td>168.5</td>\n",
       "      <td>68.3</td>\n",
       "    </tr>\n",
       "  </tbody>\n",
       "</table>\n",
       "</div>"
      ],
      "text/plain": [
       "   Anion gap  Bicarbonate  Lactic acid  Leucocyte  Urine output    RDW  INR  \\\n",
       "0       13.1         21.1          0.5        7.6        2155.3  16.22  1.0   \n",
       "\n",
       "   Comorbidities  Systolic blood pressure  Diastolic blood pressure  \n",
       "0              4                    168.5                      68.3  "
      ]
     },
     "execution_count": 8,
     "metadata": {},
     "output_type": "execute_result"
    }
   ],
   "source": [
    "X"
   ]
  },
  {
   "cell_type": "code",
   "execution_count": 9,
   "id": "dc06c673",
   "metadata": {},
   "outputs": [
    {
     "data": {
      "text/plain": [
       "array([[-0.59668343, -0.79209721, -1.60768439, -0.85469835,  0.62916128,\n",
       "        -0.17818715, -0.72669991,  0.45086816,  3.15992282,  1.07654373]])"
      ]
     },
     "execution_count": 9,
     "metadata": {},
     "output_type": "execute_result"
    }
   ],
   "source": [
    "# load scaler\n",
    "import joblib\n",
    "sc=joblib.load('std_scaler.bin')\n",
    "X = sc.transform(X)\n",
    "X"
   ]
  },
  {
   "cell_type": "code",
   "execution_count": 10,
   "id": "4190a0c5",
   "metadata": {},
   "outputs": [
    {
     "data": {
      "text/plain": [
       "0.0"
      ]
     },
     "execution_count": 10,
     "metadata": {},
     "output_type": "execute_result"
    }
   ],
   "source": [
    "preds_singular = et.predict(X)\n",
    "preds_singular[0]"
   ]
  },
  {
   "cell_type": "code",
   "execution_count": 11,
   "id": "62a1b099",
   "metadata": {},
   "outputs": [
    {
     "data": {
      "text/plain": [
       "array([[0.75, 0.25]])"
      ]
     },
     "execution_count": 11,
     "metadata": {},
     "output_type": "execute_result"
    }
   ],
   "source": [
    "preds_proba = et.predict_proba(X)\n",
    "preds_proba"
   ]
  },
  {
   "cell_type": "code",
   "execution_count": null,
   "id": "adddd05e",
   "metadata": {},
   "outputs": [],
   "source": []
  }
 ],
 "metadata": {
  "kernelspec": {
   "display_name": "Python 3 (ipykernel)",
   "language": "python",
   "name": "python3"
  },
  "language_info": {
   "codemirror_mode": {
    "name": "ipython",
    "version": 3
   },
   "file_extension": ".py",
   "mimetype": "text/x-python",
   "name": "python",
   "nbconvert_exporter": "python",
   "pygments_lexer": "ipython3",
   "version": "3.9.7"
  }
 },
 "nbformat": 4,
 "nbformat_minor": 5
}

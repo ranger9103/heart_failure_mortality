{
 "cells": [
  {
   "cell_type": "code",
   "execution_count": 1,
   "id": "60f25ba9",
   "metadata": {},
   "outputs": [],
   "source": [
    "import pandas as pd\n",
    "import matplotlib.pyplot as plt\n",
    "import matplotlib\n",
    "import seaborn as sns\n",
    "import numpy as np"
   ]
  },
  {
   "cell_type": "code",
   "execution_count": 2,
   "id": "71e1edcd",
   "metadata": {},
   "outputs": [],
   "source": [
    "from sklearn.metrics import balanced_accuracy_score\n",
    "from sklearn.metrics import confusion_matrix\n",
    "from imblearn.metrics import classification_report_imbalanced\n",
    "\n",
    "#for model evaluation\n",
    "from sklearn.metrics import roc_curve, auc \n",
    "from matplotlib import pyplot"
   ]
  },
  {
   "cell_type": "code",
   "execution_count": 3,
   "id": "82a0fe2b",
   "metadata": {},
   "outputs": [
    {
     "data": {
      "text/html": [
       "<div>\n",
       "<style scoped>\n",
       "    .dataframe tbody tr th:only-of-type {\n",
       "        vertical-align: middle;\n",
       "    }\n",
       "\n",
       "    .dataframe tbody tr th {\n",
       "        vertical-align: top;\n",
       "    }\n",
       "\n",
       "    .dataframe thead th {\n",
       "        text-align: right;\n",
       "    }\n",
       "</style>\n",
       "<table border=\"1\" class=\"dataframe\">\n",
       "  <thead>\n",
       "    <tr style=\"text-align: right;\">\n",
       "      <th></th>\n",
       "      <th>Unnamed: 0</th>\n",
       "      <th>group</th>\n",
       "      <th>ID</th>\n",
       "      <th>outcome</th>\n",
       "      <th>age</th>\n",
       "      <th>gendera</th>\n",
       "      <th>BMI</th>\n",
       "      <th>hypertensive</th>\n",
       "      <th>atrialfibrillation</th>\n",
       "      <th>CHD with no MI</th>\n",
       "      <th>diabetes</th>\n",
       "      <th>deficiencyanemias</th>\n",
       "      <th>depression</th>\n",
       "      <th>Hyperlipemia</th>\n",
       "      <th>Renal failure</th>\n",
       "      <th>COPD</th>\n",
       "      <th>heart rate</th>\n",
       "      <th>Systolic blood pressure</th>\n",
       "      <th>Diastolic blood pressure</th>\n",
       "      <th>Respiratory rate</th>\n",
       "      <th>temperature</th>\n",
       "      <th>SP O2</th>\n",
       "      <th>Urine output</th>\n",
       "      <th>hematocrit</th>\n",
       "      <th>RBC</th>\n",
       "      <th>MCH</th>\n",
       "      <th>MCHC</th>\n",
       "      <th>MCV</th>\n",
       "      <th>RDW</th>\n",
       "      <th>Leucocyte</th>\n",
       "      <th>Platelets</th>\n",
       "      <th>Neutrophils</th>\n",
       "      <th>Basophils</th>\n",
       "      <th>Lymphocyte</th>\n",
       "      <th>PT</th>\n",
       "      <th>INR</th>\n",
       "      <th>NT-proBNP</th>\n",
       "      <th>Creatine kinase</th>\n",
       "      <th>Creatinine</th>\n",
       "      <th>Urea nitrogen</th>\n",
       "      <th>glucose</th>\n",
       "      <th>Blood potassium</th>\n",
       "      <th>Blood sodium</th>\n",
       "      <th>Blood calcium</th>\n",
       "      <th>Chloride</th>\n",
       "      <th>Anion gap</th>\n",
       "      <th>Magnesium ion</th>\n",
       "      <th>PH</th>\n",
       "      <th>Bicarbonate</th>\n",
       "      <th>Lactic acid</th>\n",
       "      <th>PCO2</th>\n",
       "      <th>EF</th>\n",
       "      <th>Comorbidities</th>\n",
       "    </tr>\n",
       "  </thead>\n",
       "  <tbody>\n",
       "    <tr>\n",
       "      <th>0</th>\n",
       "      <td>0</td>\n",
       "      <td>1</td>\n",
       "      <td>125047</td>\n",
       "      <td>0.0</td>\n",
       "      <td>72</td>\n",
       "      <td>1</td>\n",
       "      <td>37.588179</td>\n",
       "      <td>0</td>\n",
       "      <td>0</td>\n",
       "      <td>0</td>\n",
       "      <td>1</td>\n",
       "      <td>1</td>\n",
       "      <td>0</td>\n",
       "      <td>1</td>\n",
       "      <td>1</td>\n",
       "      <td>0</td>\n",
       "      <td>68.837838</td>\n",
       "      <td>155.866667</td>\n",
       "      <td>68.333333</td>\n",
       "      <td>16.621622</td>\n",
       "      <td>36.714286</td>\n",
       "      <td>98.394737</td>\n",
       "      <td>2155.0</td>\n",
       "      <td>26.272727</td>\n",
       "      <td>2.960000</td>\n",
       "      <td>28.250000</td>\n",
       "      <td>31.520000</td>\n",
       "      <td>89.900</td>\n",
       "      <td>16.220000</td>\n",
       "      <td>7.650000</td>\n",
       "      <td>305.100</td>\n",
       "      <td>74.650000</td>\n",
       "      <td>0.400000</td>\n",
       "      <td>13.300000</td>\n",
       "      <td>10.600000</td>\n",
       "      <td>1.000000</td>\n",
       "      <td>1956.0</td>\n",
       "      <td>148.000000</td>\n",
       "      <td>1.958333</td>\n",
       "      <td>50.000000</td>\n",
       "      <td>114.636364</td>\n",
       "      <td>4.816667</td>\n",
       "      <td>138.750000</td>\n",
       "      <td>7.463636</td>\n",
       "      <td>109.166667</td>\n",
       "      <td>13.166667</td>\n",
       "      <td>2.618182</td>\n",
       "      <td>7.230</td>\n",
       "      <td>21.166667</td>\n",
       "      <td>0.5</td>\n",
       "      <td>40.0</td>\n",
       "      <td>55</td>\n",
       "      <td>4.0</td>\n",
       "    </tr>\n",
       "    <tr>\n",
       "      <th>1</th>\n",
       "      <td>1</td>\n",
       "      <td>1</td>\n",
       "      <td>139812</td>\n",
       "      <td>0.0</td>\n",
       "      <td>75</td>\n",
       "      <td>2</td>\n",
       "      <td>30.188278</td>\n",
       "      <td>0</td>\n",
       "      <td>0</td>\n",
       "      <td>0</td>\n",
       "      <td>0</td>\n",
       "      <td>1</td>\n",
       "      <td>0</td>\n",
       "      <td>0</td>\n",
       "      <td>0</td>\n",
       "      <td>1</td>\n",
       "      <td>101.370370</td>\n",
       "      <td>140.000000</td>\n",
       "      <td>65.000000</td>\n",
       "      <td>20.851852</td>\n",
       "      <td>36.682540</td>\n",
       "      <td>96.923077</td>\n",
       "      <td>1425.0</td>\n",
       "      <td>30.780000</td>\n",
       "      <td>3.138000</td>\n",
       "      <td>31.060000</td>\n",
       "      <td>31.660000</td>\n",
       "      <td>98.200</td>\n",
       "      <td>14.260000</td>\n",
       "      <td>12.740000</td>\n",
       "      <td>246.400</td>\n",
       "      <td>80.115592</td>\n",
       "      <td>0.405685</td>\n",
       "      <td>12.232717</td>\n",
       "      <td>17.486404</td>\n",
       "      <td>1.626064</td>\n",
       "      <td>2384.0</td>\n",
       "      <td>60.600000</td>\n",
       "      <td>1.122222</td>\n",
       "      <td>20.333333</td>\n",
       "      <td>147.500000</td>\n",
       "      <td>4.450000</td>\n",
       "      <td>138.888889</td>\n",
       "      <td>8.162500</td>\n",
       "      <td>98.444444</td>\n",
       "      <td>11.444444</td>\n",
       "      <td>1.887500</td>\n",
       "      <td>7.225</td>\n",
       "      <td>33.444444</td>\n",
       "      <td>0.5</td>\n",
       "      <td>78.0</td>\n",
       "      <td>55</td>\n",
       "      <td>2.0</td>\n",
       "    </tr>\n",
       "    <tr>\n",
       "      <th>2</th>\n",
       "      <td>2</td>\n",
       "      <td>1</td>\n",
       "      <td>109787</td>\n",
       "      <td>0.0</td>\n",
       "      <td>83</td>\n",
       "      <td>2</td>\n",
       "      <td>26.572634</td>\n",
       "      <td>0</td>\n",
       "      <td>0</td>\n",
       "      <td>0</td>\n",
       "      <td>0</td>\n",
       "      <td>1</td>\n",
       "      <td>0</td>\n",
       "      <td>0</td>\n",
       "      <td>1</td>\n",
       "      <td>0</td>\n",
       "      <td>72.318182</td>\n",
       "      <td>135.333333</td>\n",
       "      <td>61.375000</td>\n",
       "      <td>23.640000</td>\n",
       "      <td>36.453704</td>\n",
       "      <td>95.291667</td>\n",
       "      <td>2425.0</td>\n",
       "      <td>27.700000</td>\n",
       "      <td>2.620000</td>\n",
       "      <td>34.320000</td>\n",
       "      <td>31.300000</td>\n",
       "      <td>109.800</td>\n",
       "      <td>23.820000</td>\n",
       "      <td>5.480000</td>\n",
       "      <td>204.200</td>\n",
       "      <td>68.100000</td>\n",
       "      <td>0.550000</td>\n",
       "      <td>24.500000</td>\n",
       "      <td>11.275000</td>\n",
       "      <td>0.950000</td>\n",
       "      <td>4081.0</td>\n",
       "      <td>16.000000</td>\n",
       "      <td>1.871429</td>\n",
       "      <td>33.857143</td>\n",
       "      <td>149.000000</td>\n",
       "      <td>5.825000</td>\n",
       "      <td>140.714286</td>\n",
       "      <td>8.266667</td>\n",
       "      <td>105.857143</td>\n",
       "      <td>10.000000</td>\n",
       "      <td>2.157143</td>\n",
       "      <td>7.268</td>\n",
       "      <td>30.571429</td>\n",
       "      <td>0.5</td>\n",
       "      <td>71.5</td>\n",
       "      <td>35</td>\n",
       "      <td>2.0</td>\n",
       "    </tr>\n",
       "    <tr>\n",
       "      <th>3</th>\n",
       "      <td>3</td>\n",
       "      <td>1</td>\n",
       "      <td>130587</td>\n",
       "      <td>0.0</td>\n",
       "      <td>43</td>\n",
       "      <td>2</td>\n",
       "      <td>83.264629</td>\n",
       "      <td>0</td>\n",
       "      <td>0</td>\n",
       "      <td>0</td>\n",
       "      <td>0</td>\n",
       "      <td>0</td>\n",
       "      <td>0</td>\n",
       "      <td>0</td>\n",
       "      <td>0</td>\n",
       "      <td>0</td>\n",
       "      <td>94.500000</td>\n",
       "      <td>126.400000</td>\n",
       "      <td>73.200000</td>\n",
       "      <td>21.857143</td>\n",
       "      <td>36.287037</td>\n",
       "      <td>93.846154</td>\n",
       "      <td>8760.0</td>\n",
       "      <td>36.637500</td>\n",
       "      <td>4.277500</td>\n",
       "      <td>26.062500</td>\n",
       "      <td>30.412500</td>\n",
       "      <td>85.625</td>\n",
       "      <td>17.037500</td>\n",
       "      <td>8.225000</td>\n",
       "      <td>216.375</td>\n",
       "      <td>81.800000</td>\n",
       "      <td>0.150000</td>\n",
       "      <td>14.500000</td>\n",
       "      <td>27.066667</td>\n",
       "      <td>2.666667</td>\n",
       "      <td>668.0</td>\n",
       "      <td>85.000000</td>\n",
       "      <td>0.585714</td>\n",
       "      <td>15.285714</td>\n",
       "      <td>128.250000</td>\n",
       "      <td>4.386667</td>\n",
       "      <td>138.500000</td>\n",
       "      <td>9.476923</td>\n",
       "      <td>92.071429</td>\n",
       "      <td>12.357143</td>\n",
       "      <td>1.942857</td>\n",
       "      <td>7.370</td>\n",
       "      <td>38.571429</td>\n",
       "      <td>0.6</td>\n",
       "      <td>75.0</td>\n",
       "      <td>55</td>\n",
       "      <td>0.0</td>\n",
       "    </tr>\n",
       "    <tr>\n",
       "      <th>4</th>\n",
       "      <td>4</td>\n",
       "      <td>1</td>\n",
       "      <td>138290</td>\n",
       "      <td>0.0</td>\n",
       "      <td>75</td>\n",
       "      <td>2</td>\n",
       "      <td>31.824842</td>\n",
       "      <td>1</td>\n",
       "      <td>0</td>\n",
       "      <td>0</td>\n",
       "      <td>0</td>\n",
       "      <td>1</td>\n",
       "      <td>0</td>\n",
       "      <td>0</td>\n",
       "      <td>1</td>\n",
       "      <td>1</td>\n",
       "      <td>67.920000</td>\n",
       "      <td>156.560000</td>\n",
       "      <td>58.120000</td>\n",
       "      <td>21.360000</td>\n",
       "      <td>36.761905</td>\n",
       "      <td>99.280000</td>\n",
       "      <td>4455.0</td>\n",
       "      <td>29.933333</td>\n",
       "      <td>3.286667</td>\n",
       "      <td>30.666667</td>\n",
       "      <td>33.666667</td>\n",
       "      <td>91.000</td>\n",
       "      <td>16.266667</td>\n",
       "      <td>8.833333</td>\n",
       "      <td>251.000</td>\n",
       "      <td>80.115592</td>\n",
       "      <td>0.405685</td>\n",
       "      <td>12.232717</td>\n",
       "      <td>17.486404</td>\n",
       "      <td>1.626064</td>\n",
       "      <td>30802.0</td>\n",
       "      <td>111.666667</td>\n",
       "      <td>1.950000</td>\n",
       "      <td>43.000000</td>\n",
       "      <td>145.750000</td>\n",
       "      <td>4.783333</td>\n",
       "      <td>136.666667</td>\n",
       "      <td>8.733333</td>\n",
       "      <td>104.500000</td>\n",
       "      <td>15.166667</td>\n",
       "      <td>1.650000</td>\n",
       "      <td>7.250</td>\n",
       "      <td>22.000000</td>\n",
       "      <td>0.6</td>\n",
       "      <td>50.0</td>\n",
       "      <td>55</td>\n",
       "      <td>4.0</td>\n",
       "    </tr>\n",
       "  </tbody>\n",
       "</table>\n",
       "</div>"
      ],
      "text/plain": [
       "   Unnamed: 0  group      ID  outcome  age  gendera        BMI  hypertensive  \\\n",
       "0           0      1  125047      0.0   72        1  37.588179             0   \n",
       "1           1      1  139812      0.0   75        2  30.188278             0   \n",
       "2           2      1  109787      0.0   83        2  26.572634             0   \n",
       "3           3      1  130587      0.0   43        2  83.264629             0   \n",
       "4           4      1  138290      0.0   75        2  31.824842             1   \n",
       "\n",
       "   atrialfibrillation  CHD with no MI  diabetes  deficiencyanemias  \\\n",
       "0                   0               0         1                  1   \n",
       "1                   0               0         0                  1   \n",
       "2                   0               0         0                  1   \n",
       "3                   0               0         0                  0   \n",
       "4                   0               0         0                  1   \n",
       "\n",
       "   depression  Hyperlipemia  Renal failure  COPD  heart rate  \\\n",
       "0           0             1              1     0   68.837838   \n",
       "1           0             0              0     1  101.370370   \n",
       "2           0             0              1     0   72.318182   \n",
       "3           0             0              0     0   94.500000   \n",
       "4           0             0              1     1   67.920000   \n",
       "\n",
       "   Systolic blood pressure  Diastolic blood pressure  Respiratory rate  \\\n",
       "0               155.866667                 68.333333         16.621622   \n",
       "1               140.000000                 65.000000         20.851852   \n",
       "2               135.333333                 61.375000         23.640000   \n",
       "3               126.400000                 73.200000         21.857143   \n",
       "4               156.560000                 58.120000         21.360000   \n",
       "\n",
       "   temperature      SP O2  Urine output  hematocrit       RBC        MCH  \\\n",
       "0    36.714286  98.394737        2155.0   26.272727  2.960000  28.250000   \n",
       "1    36.682540  96.923077        1425.0   30.780000  3.138000  31.060000   \n",
       "2    36.453704  95.291667        2425.0   27.700000  2.620000  34.320000   \n",
       "3    36.287037  93.846154        8760.0   36.637500  4.277500  26.062500   \n",
       "4    36.761905  99.280000        4455.0   29.933333  3.286667  30.666667   \n",
       "\n",
       "        MCHC      MCV        RDW  Leucocyte  Platelets  Neutrophils  \\\n",
       "0  31.520000   89.900  16.220000   7.650000    305.100    74.650000   \n",
       "1  31.660000   98.200  14.260000  12.740000    246.400    80.115592   \n",
       "2  31.300000  109.800  23.820000   5.480000    204.200    68.100000   \n",
       "3  30.412500   85.625  17.037500   8.225000    216.375    81.800000   \n",
       "4  33.666667   91.000  16.266667   8.833333    251.000    80.115592   \n",
       "\n",
       "   Basophils  Lymphocyte         PT       INR  NT-proBNP  Creatine kinase  \\\n",
       "0   0.400000   13.300000  10.600000  1.000000     1956.0       148.000000   \n",
       "1   0.405685   12.232717  17.486404  1.626064     2384.0        60.600000   \n",
       "2   0.550000   24.500000  11.275000  0.950000     4081.0        16.000000   \n",
       "3   0.150000   14.500000  27.066667  2.666667      668.0        85.000000   \n",
       "4   0.405685   12.232717  17.486404  1.626064    30802.0       111.666667   \n",
       "\n",
       "   Creatinine  Urea nitrogen     glucose  Blood potassium  Blood sodium  \\\n",
       "0    1.958333      50.000000  114.636364         4.816667    138.750000   \n",
       "1    1.122222      20.333333  147.500000         4.450000    138.888889   \n",
       "2    1.871429      33.857143  149.000000         5.825000    140.714286   \n",
       "3    0.585714      15.285714  128.250000         4.386667    138.500000   \n",
       "4    1.950000      43.000000  145.750000         4.783333    136.666667   \n",
       "\n",
       "   Blood calcium    Chloride  Anion gap  Magnesium ion     PH  Bicarbonate  \\\n",
       "0       7.463636  109.166667  13.166667       2.618182  7.230    21.166667   \n",
       "1       8.162500   98.444444  11.444444       1.887500  7.225    33.444444   \n",
       "2       8.266667  105.857143  10.000000       2.157143  7.268    30.571429   \n",
       "3       9.476923   92.071429  12.357143       1.942857  7.370    38.571429   \n",
       "4       8.733333  104.500000  15.166667       1.650000  7.250    22.000000   \n",
       "\n",
       "   Lactic acid  PCO2  EF  Comorbidities  \n",
       "0          0.5  40.0  55            4.0  \n",
       "1          0.5  78.0  55            2.0  \n",
       "2          0.5  71.5  35            2.0  \n",
       "3          0.6  75.0  55            0.0  \n",
       "4          0.6  50.0  55            4.0  "
      ]
     },
     "execution_count": 3,
     "metadata": {},
     "output_type": "execute_result"
    }
   ],
   "source": [
    "df = pd.read_csv('Imputed_Data.csv')\n",
    "\n",
    "# set the max columns to none\n",
    "pd.set_option('display.max_columns', None)\n",
    "\n",
    "df.head()"
   ]
  },
  {
   "cell_type": "code",
   "execution_count": 4,
   "id": "a3aacd5a",
   "metadata": {},
   "outputs": [
    {
     "data": {
      "text/plain": [
       "Index(['Unnamed: 0', 'group', 'ID', 'outcome', 'age', 'gendera', 'BMI',\n",
       "       'hypertensive', 'atrialfibrillation', 'CHD with no MI', 'diabetes',\n",
       "       'deficiencyanemias', 'depression', 'Hyperlipemia', 'Renal failure',\n",
       "       'COPD', 'heart rate', 'Systolic blood pressure',\n",
       "       'Diastolic blood pressure', 'Respiratory rate', 'temperature', 'SP O2',\n",
       "       'Urine output', 'hematocrit', 'RBC', 'MCH', 'MCHC', 'MCV', 'RDW',\n",
       "       'Leucocyte', 'Platelets', 'Neutrophils', 'Basophils', 'Lymphocyte',\n",
       "       'PT', 'INR', 'NT-proBNP', 'Creatine kinase', 'Creatinine',\n",
       "       'Urea nitrogen', 'glucose', 'Blood potassium', 'Blood sodium',\n",
       "       'Blood calcium', 'Chloride', 'Anion gap', 'Magnesium ion', 'PH',\n",
       "       'Bicarbonate', 'Lactic acid', 'PCO2', 'EF', 'Comorbidities'],\n",
       "      dtype='object')"
      ]
     },
     "execution_count": 4,
     "metadata": {},
     "output_type": "execute_result"
    }
   ],
   "source": [
    "df.columns"
   ]
  },
  {
   "cell_type": "code",
   "execution_count": 5,
   "id": "9080f838",
   "metadata": {},
   "outputs": [
    {
     "data": {
      "text/html": [
       "<div>\n",
       "<style scoped>\n",
       "    .dataframe tbody tr th:only-of-type {\n",
       "        vertical-align: middle;\n",
       "    }\n",
       "\n",
       "    .dataframe tbody tr th {\n",
       "        vertical-align: top;\n",
       "    }\n",
       "\n",
       "    .dataframe thead th {\n",
       "        text-align: right;\n",
       "    }\n",
       "</style>\n",
       "<table border=\"1\" class=\"dataframe\">\n",
       "  <thead>\n",
       "    <tr style=\"text-align: right;\">\n",
       "      <th></th>\n",
       "      <th>outcome</th>\n",
       "      <th>age</th>\n",
       "      <th>gendera</th>\n",
       "      <th>BMI</th>\n",
       "      <th>hypertensive</th>\n",
       "      <th>atrialfibrillation</th>\n",
       "      <th>CHD with no MI</th>\n",
       "      <th>diabetes</th>\n",
       "      <th>deficiencyanemias</th>\n",
       "      <th>depression</th>\n",
       "      <th>Hyperlipemia</th>\n",
       "      <th>Renal failure</th>\n",
       "      <th>COPD</th>\n",
       "      <th>heart rate</th>\n",
       "      <th>Systolic blood pressure</th>\n",
       "      <th>Diastolic blood pressure</th>\n",
       "      <th>Respiratory rate</th>\n",
       "      <th>temperature</th>\n",
       "      <th>SP O2</th>\n",
       "      <th>Urine output</th>\n",
       "      <th>hematocrit</th>\n",
       "      <th>RBC</th>\n",
       "      <th>MCH</th>\n",
       "      <th>MCHC</th>\n",
       "      <th>MCV</th>\n",
       "      <th>RDW</th>\n",
       "      <th>Leucocyte</th>\n",
       "      <th>Platelets</th>\n",
       "      <th>Neutrophils</th>\n",
       "      <th>Basophils</th>\n",
       "      <th>Lymphocyte</th>\n",
       "      <th>PT</th>\n",
       "      <th>INR</th>\n",
       "      <th>NT-proBNP</th>\n",
       "      <th>Creatine kinase</th>\n",
       "      <th>Creatinine</th>\n",
       "      <th>Urea nitrogen</th>\n",
       "      <th>glucose</th>\n",
       "      <th>Blood potassium</th>\n",
       "      <th>Blood sodium</th>\n",
       "      <th>Blood calcium</th>\n",
       "      <th>Chloride</th>\n",
       "      <th>Anion gap</th>\n",
       "      <th>Magnesium ion</th>\n",
       "      <th>PH</th>\n",
       "      <th>Bicarbonate</th>\n",
       "      <th>Lactic acid</th>\n",
       "      <th>PCO2</th>\n",
       "      <th>EF</th>\n",
       "    </tr>\n",
       "  </thead>\n",
       "  <tbody>\n",
       "    <tr>\n",
       "      <th>0</th>\n",
       "      <td>0.0</td>\n",
       "      <td>72</td>\n",
       "      <td>1</td>\n",
       "      <td>37.588179</td>\n",
       "      <td>0</td>\n",
       "      <td>0</td>\n",
       "      <td>0</td>\n",
       "      <td>1</td>\n",
       "      <td>1</td>\n",
       "      <td>0</td>\n",
       "      <td>1</td>\n",
       "      <td>1</td>\n",
       "      <td>0</td>\n",
       "      <td>68.837838</td>\n",
       "      <td>155.866667</td>\n",
       "      <td>68.333333</td>\n",
       "      <td>16.621622</td>\n",
       "      <td>36.714286</td>\n",
       "      <td>98.394737</td>\n",
       "      <td>2155.0</td>\n",
       "      <td>26.272727</td>\n",
       "      <td>2.960000</td>\n",
       "      <td>28.250000</td>\n",
       "      <td>31.520000</td>\n",
       "      <td>89.900</td>\n",
       "      <td>16.220000</td>\n",
       "      <td>7.650000</td>\n",
       "      <td>305.100</td>\n",
       "      <td>74.650000</td>\n",
       "      <td>0.400000</td>\n",
       "      <td>13.300000</td>\n",
       "      <td>10.600000</td>\n",
       "      <td>1.000000</td>\n",
       "      <td>1956.0</td>\n",
       "      <td>148.000000</td>\n",
       "      <td>1.958333</td>\n",
       "      <td>50.000000</td>\n",
       "      <td>114.636364</td>\n",
       "      <td>4.816667</td>\n",
       "      <td>138.750000</td>\n",
       "      <td>7.463636</td>\n",
       "      <td>109.166667</td>\n",
       "      <td>13.166667</td>\n",
       "      <td>2.618182</td>\n",
       "      <td>7.230</td>\n",
       "      <td>21.166667</td>\n",
       "      <td>0.5</td>\n",
       "      <td>40.0</td>\n",
       "      <td>55</td>\n",
       "    </tr>\n",
       "    <tr>\n",
       "      <th>1</th>\n",
       "      <td>0.0</td>\n",
       "      <td>75</td>\n",
       "      <td>2</td>\n",
       "      <td>30.188278</td>\n",
       "      <td>0</td>\n",
       "      <td>0</td>\n",
       "      <td>0</td>\n",
       "      <td>0</td>\n",
       "      <td>1</td>\n",
       "      <td>0</td>\n",
       "      <td>0</td>\n",
       "      <td>0</td>\n",
       "      <td>1</td>\n",
       "      <td>101.370370</td>\n",
       "      <td>140.000000</td>\n",
       "      <td>65.000000</td>\n",
       "      <td>20.851852</td>\n",
       "      <td>36.682540</td>\n",
       "      <td>96.923077</td>\n",
       "      <td>1425.0</td>\n",
       "      <td>30.780000</td>\n",
       "      <td>3.138000</td>\n",
       "      <td>31.060000</td>\n",
       "      <td>31.660000</td>\n",
       "      <td>98.200</td>\n",
       "      <td>14.260000</td>\n",
       "      <td>12.740000</td>\n",
       "      <td>246.400</td>\n",
       "      <td>80.115592</td>\n",
       "      <td>0.405685</td>\n",
       "      <td>12.232717</td>\n",
       "      <td>17.486404</td>\n",
       "      <td>1.626064</td>\n",
       "      <td>2384.0</td>\n",
       "      <td>60.600000</td>\n",
       "      <td>1.122222</td>\n",
       "      <td>20.333333</td>\n",
       "      <td>147.500000</td>\n",
       "      <td>4.450000</td>\n",
       "      <td>138.888889</td>\n",
       "      <td>8.162500</td>\n",
       "      <td>98.444444</td>\n",
       "      <td>11.444444</td>\n",
       "      <td>1.887500</td>\n",
       "      <td>7.225</td>\n",
       "      <td>33.444444</td>\n",
       "      <td>0.5</td>\n",
       "      <td>78.0</td>\n",
       "      <td>55</td>\n",
       "    </tr>\n",
       "    <tr>\n",
       "      <th>2</th>\n",
       "      <td>0.0</td>\n",
       "      <td>83</td>\n",
       "      <td>2</td>\n",
       "      <td>26.572634</td>\n",
       "      <td>0</td>\n",
       "      <td>0</td>\n",
       "      <td>0</td>\n",
       "      <td>0</td>\n",
       "      <td>1</td>\n",
       "      <td>0</td>\n",
       "      <td>0</td>\n",
       "      <td>1</td>\n",
       "      <td>0</td>\n",
       "      <td>72.318182</td>\n",
       "      <td>135.333333</td>\n",
       "      <td>61.375000</td>\n",
       "      <td>23.640000</td>\n",
       "      <td>36.453704</td>\n",
       "      <td>95.291667</td>\n",
       "      <td>2425.0</td>\n",
       "      <td>27.700000</td>\n",
       "      <td>2.620000</td>\n",
       "      <td>34.320000</td>\n",
       "      <td>31.300000</td>\n",
       "      <td>109.800</td>\n",
       "      <td>23.820000</td>\n",
       "      <td>5.480000</td>\n",
       "      <td>204.200</td>\n",
       "      <td>68.100000</td>\n",
       "      <td>0.550000</td>\n",
       "      <td>24.500000</td>\n",
       "      <td>11.275000</td>\n",
       "      <td>0.950000</td>\n",
       "      <td>4081.0</td>\n",
       "      <td>16.000000</td>\n",
       "      <td>1.871429</td>\n",
       "      <td>33.857143</td>\n",
       "      <td>149.000000</td>\n",
       "      <td>5.825000</td>\n",
       "      <td>140.714286</td>\n",
       "      <td>8.266667</td>\n",
       "      <td>105.857143</td>\n",
       "      <td>10.000000</td>\n",
       "      <td>2.157143</td>\n",
       "      <td>7.268</td>\n",
       "      <td>30.571429</td>\n",
       "      <td>0.5</td>\n",
       "      <td>71.5</td>\n",
       "      <td>35</td>\n",
       "    </tr>\n",
       "    <tr>\n",
       "      <th>3</th>\n",
       "      <td>0.0</td>\n",
       "      <td>43</td>\n",
       "      <td>2</td>\n",
       "      <td>83.264629</td>\n",
       "      <td>0</td>\n",
       "      <td>0</td>\n",
       "      <td>0</td>\n",
       "      <td>0</td>\n",
       "      <td>0</td>\n",
       "      <td>0</td>\n",
       "      <td>0</td>\n",
       "      <td>0</td>\n",
       "      <td>0</td>\n",
       "      <td>94.500000</td>\n",
       "      <td>126.400000</td>\n",
       "      <td>73.200000</td>\n",
       "      <td>21.857143</td>\n",
       "      <td>36.287037</td>\n",
       "      <td>93.846154</td>\n",
       "      <td>8760.0</td>\n",
       "      <td>36.637500</td>\n",
       "      <td>4.277500</td>\n",
       "      <td>26.062500</td>\n",
       "      <td>30.412500</td>\n",
       "      <td>85.625</td>\n",
       "      <td>17.037500</td>\n",
       "      <td>8.225000</td>\n",
       "      <td>216.375</td>\n",
       "      <td>81.800000</td>\n",
       "      <td>0.150000</td>\n",
       "      <td>14.500000</td>\n",
       "      <td>27.066667</td>\n",
       "      <td>2.666667</td>\n",
       "      <td>668.0</td>\n",
       "      <td>85.000000</td>\n",
       "      <td>0.585714</td>\n",
       "      <td>15.285714</td>\n",
       "      <td>128.250000</td>\n",
       "      <td>4.386667</td>\n",
       "      <td>138.500000</td>\n",
       "      <td>9.476923</td>\n",
       "      <td>92.071429</td>\n",
       "      <td>12.357143</td>\n",
       "      <td>1.942857</td>\n",
       "      <td>7.370</td>\n",
       "      <td>38.571429</td>\n",
       "      <td>0.6</td>\n",
       "      <td>75.0</td>\n",
       "      <td>55</td>\n",
       "    </tr>\n",
       "    <tr>\n",
       "      <th>4</th>\n",
       "      <td>0.0</td>\n",
       "      <td>75</td>\n",
       "      <td>2</td>\n",
       "      <td>31.824842</td>\n",
       "      <td>1</td>\n",
       "      <td>0</td>\n",
       "      <td>0</td>\n",
       "      <td>0</td>\n",
       "      <td>1</td>\n",
       "      <td>0</td>\n",
       "      <td>0</td>\n",
       "      <td>1</td>\n",
       "      <td>1</td>\n",
       "      <td>67.920000</td>\n",
       "      <td>156.560000</td>\n",
       "      <td>58.120000</td>\n",
       "      <td>21.360000</td>\n",
       "      <td>36.761905</td>\n",
       "      <td>99.280000</td>\n",
       "      <td>4455.0</td>\n",
       "      <td>29.933333</td>\n",
       "      <td>3.286667</td>\n",
       "      <td>30.666667</td>\n",
       "      <td>33.666667</td>\n",
       "      <td>91.000</td>\n",
       "      <td>16.266667</td>\n",
       "      <td>8.833333</td>\n",
       "      <td>251.000</td>\n",
       "      <td>80.115592</td>\n",
       "      <td>0.405685</td>\n",
       "      <td>12.232717</td>\n",
       "      <td>17.486404</td>\n",
       "      <td>1.626064</td>\n",
       "      <td>30802.0</td>\n",
       "      <td>111.666667</td>\n",
       "      <td>1.950000</td>\n",
       "      <td>43.000000</td>\n",
       "      <td>145.750000</td>\n",
       "      <td>4.783333</td>\n",
       "      <td>136.666667</td>\n",
       "      <td>8.733333</td>\n",
       "      <td>104.500000</td>\n",
       "      <td>15.166667</td>\n",
       "      <td>1.650000</td>\n",
       "      <td>7.250</td>\n",
       "      <td>22.000000</td>\n",
       "      <td>0.6</td>\n",
       "      <td>50.0</td>\n",
       "      <td>55</td>\n",
       "    </tr>\n",
       "  </tbody>\n",
       "</table>\n",
       "</div>"
      ],
      "text/plain": [
       "   outcome  age  gendera        BMI  hypertensive  atrialfibrillation  \\\n",
       "0      0.0   72        1  37.588179             0                   0   \n",
       "1      0.0   75        2  30.188278             0                   0   \n",
       "2      0.0   83        2  26.572634             0                   0   \n",
       "3      0.0   43        2  83.264629             0                   0   \n",
       "4      0.0   75        2  31.824842             1                   0   \n",
       "\n",
       "   CHD with no MI  diabetes  deficiencyanemias  depression  Hyperlipemia  \\\n",
       "0               0         1                  1           0             1   \n",
       "1               0         0                  1           0             0   \n",
       "2               0         0                  1           0             0   \n",
       "3               0         0                  0           0             0   \n",
       "4               0         0                  1           0             0   \n",
       "\n",
       "   Renal failure  COPD  heart rate  Systolic blood pressure  \\\n",
       "0              1     0   68.837838               155.866667   \n",
       "1              0     1  101.370370               140.000000   \n",
       "2              1     0   72.318182               135.333333   \n",
       "3              0     0   94.500000               126.400000   \n",
       "4              1     1   67.920000               156.560000   \n",
       "\n",
       "   Diastolic blood pressure  Respiratory rate  temperature      SP O2  \\\n",
       "0                 68.333333         16.621622    36.714286  98.394737   \n",
       "1                 65.000000         20.851852    36.682540  96.923077   \n",
       "2                 61.375000         23.640000    36.453704  95.291667   \n",
       "3                 73.200000         21.857143    36.287037  93.846154   \n",
       "4                 58.120000         21.360000    36.761905  99.280000   \n",
       "\n",
       "   Urine output  hematocrit       RBC        MCH       MCHC      MCV  \\\n",
       "0        2155.0   26.272727  2.960000  28.250000  31.520000   89.900   \n",
       "1        1425.0   30.780000  3.138000  31.060000  31.660000   98.200   \n",
       "2        2425.0   27.700000  2.620000  34.320000  31.300000  109.800   \n",
       "3        8760.0   36.637500  4.277500  26.062500  30.412500   85.625   \n",
       "4        4455.0   29.933333  3.286667  30.666667  33.666667   91.000   \n",
       "\n",
       "         RDW  Leucocyte  Platelets  Neutrophils  Basophils  Lymphocyte  \\\n",
       "0  16.220000   7.650000    305.100    74.650000   0.400000   13.300000   \n",
       "1  14.260000  12.740000    246.400    80.115592   0.405685   12.232717   \n",
       "2  23.820000   5.480000    204.200    68.100000   0.550000   24.500000   \n",
       "3  17.037500   8.225000    216.375    81.800000   0.150000   14.500000   \n",
       "4  16.266667   8.833333    251.000    80.115592   0.405685   12.232717   \n",
       "\n",
       "          PT       INR  NT-proBNP  Creatine kinase  Creatinine  Urea nitrogen  \\\n",
       "0  10.600000  1.000000     1956.0       148.000000    1.958333      50.000000   \n",
       "1  17.486404  1.626064     2384.0        60.600000    1.122222      20.333333   \n",
       "2  11.275000  0.950000     4081.0        16.000000    1.871429      33.857143   \n",
       "3  27.066667  2.666667      668.0        85.000000    0.585714      15.285714   \n",
       "4  17.486404  1.626064    30802.0       111.666667    1.950000      43.000000   \n",
       "\n",
       "      glucose  Blood potassium  Blood sodium  Blood calcium    Chloride  \\\n",
       "0  114.636364         4.816667    138.750000       7.463636  109.166667   \n",
       "1  147.500000         4.450000    138.888889       8.162500   98.444444   \n",
       "2  149.000000         5.825000    140.714286       8.266667  105.857143   \n",
       "3  128.250000         4.386667    138.500000       9.476923   92.071429   \n",
       "4  145.750000         4.783333    136.666667       8.733333  104.500000   \n",
       "\n",
       "   Anion gap  Magnesium ion     PH  Bicarbonate  Lactic acid  PCO2  EF  \n",
       "0  13.166667       2.618182  7.230    21.166667          0.5  40.0  55  \n",
       "1  11.444444       1.887500  7.225    33.444444          0.5  78.0  55  \n",
       "2  10.000000       2.157143  7.268    30.571429          0.5  71.5  35  \n",
       "3  12.357143       1.942857  7.370    38.571429          0.6  75.0  55  \n",
       "4  15.166667       1.650000  7.250    22.000000          0.6  50.0  55  "
      ]
     },
     "execution_count": 5,
     "metadata": {},
     "output_type": "execute_result"
    }
   ],
   "source": [
    "df.drop(['Unnamed: 0', 'group', 'ID', 'Comorbidities'],  axis=1, inplace=True)\n",
    "df.head()"
   ]
  },
  {
   "cell_type": "code",
   "execution_count": 6,
   "id": "1c27db48",
   "metadata": {},
   "outputs": [],
   "source": [
    "# Create our features\n",
    "X = df.drop('outcome', axis=1)\n",
    "y = df['outcome']"
   ]
  },
  {
   "cell_type": "code",
   "execution_count": 7,
   "id": "c5798e31",
   "metadata": {},
   "outputs": [],
   "source": [
    "from sklearn.model_selection import train_test_split\n",
    "X_train, X_test, y_train, y_test = train_test_split(X, y, random_state=1)"
   ]
  },
  {
   "cell_type": "code",
   "execution_count": 8,
   "id": "9d2f7781",
   "metadata": {},
   "outputs": [
    {
     "name": "stdout",
     "output_type": "stream",
     "text": [
      "Shape of X_train: (882, 48)\n",
      "Shape of y_train: (882,)\n",
      "Shape of X_test: (294, 48)\n",
      "Shape of y_test: (294,)\n"
     ]
    }
   ],
   "source": [
    "print(\"Shape of X_train:\" ,X_train.shape)\n",
    "print(\"Shape of y_train:\" ,y_train.shape)\n",
    "print(\"Shape of X_test:\"  ,X_test.shape)\n",
    "print(\"Shape of y_test:\"  ,y_test.shape)"
   ]
  },
  {
   "cell_type": "code",
   "execution_count": 9,
   "id": "175e7393",
   "metadata": {},
   "outputs": [],
   "source": [
    "# Feature Scaling\n",
    "from sklearn.preprocessing import StandardScaler\n",
    "sc = StandardScaler()\n",
    "X_train = sc.fit_transform(X_train)\n",
    "X_test = sc.transform(X_test)"
   ]
  },
  {
   "cell_type": "markdown",
   "id": "8f5f33f7",
   "metadata": {},
   "source": [
    "# Logistic Regression Model"
   ]
  },
  {
   "cell_type": "code",
   "execution_count": 10,
   "id": "8817c1e5",
   "metadata": {},
   "outputs": [
    {
     "data": {
      "text/html": [
       "<style>#sk-container-id-1 {color: black;background-color: white;}#sk-container-id-1 pre{padding: 0;}#sk-container-id-1 div.sk-toggleable {background-color: white;}#sk-container-id-1 label.sk-toggleable__label {cursor: pointer;display: block;width: 100%;margin-bottom: 0;padding: 0.3em;box-sizing: border-box;text-align: center;}#sk-container-id-1 label.sk-toggleable__label-arrow:before {content: \"▸\";float: left;margin-right: 0.25em;color: #696969;}#sk-container-id-1 label.sk-toggleable__label-arrow:hover:before {color: black;}#sk-container-id-1 div.sk-estimator:hover label.sk-toggleable__label-arrow:before {color: black;}#sk-container-id-1 div.sk-toggleable__content {max-height: 0;max-width: 0;overflow: hidden;text-align: left;background-color: #f0f8ff;}#sk-container-id-1 div.sk-toggleable__content pre {margin: 0.2em;color: black;border-radius: 0.25em;background-color: #f0f8ff;}#sk-container-id-1 input.sk-toggleable__control:checked~div.sk-toggleable__content {max-height: 200px;max-width: 100%;overflow: auto;}#sk-container-id-1 input.sk-toggleable__control:checked~label.sk-toggleable__label-arrow:before {content: \"▾\";}#sk-container-id-1 div.sk-estimator input.sk-toggleable__control:checked~label.sk-toggleable__label {background-color: #d4ebff;}#sk-container-id-1 div.sk-label input.sk-toggleable__control:checked~label.sk-toggleable__label {background-color: #d4ebff;}#sk-container-id-1 input.sk-hidden--visually {border: 0;clip: rect(1px 1px 1px 1px);clip: rect(1px, 1px, 1px, 1px);height: 1px;margin: -1px;overflow: hidden;padding: 0;position: absolute;width: 1px;}#sk-container-id-1 div.sk-estimator {font-family: monospace;background-color: #f0f8ff;border: 1px dotted black;border-radius: 0.25em;box-sizing: border-box;margin-bottom: 0.5em;}#sk-container-id-1 div.sk-estimator:hover {background-color: #d4ebff;}#sk-container-id-1 div.sk-parallel-item::after {content: \"\";width: 100%;border-bottom: 1px solid gray;flex-grow: 1;}#sk-container-id-1 div.sk-label:hover label.sk-toggleable__label {background-color: #d4ebff;}#sk-container-id-1 div.sk-serial::before {content: \"\";position: absolute;border-left: 1px solid gray;box-sizing: border-box;top: 0;bottom: 0;left: 50%;z-index: 0;}#sk-container-id-1 div.sk-serial {display: flex;flex-direction: column;align-items: center;background-color: white;padding-right: 0.2em;padding-left: 0.2em;position: relative;}#sk-container-id-1 div.sk-item {position: relative;z-index: 1;}#sk-container-id-1 div.sk-parallel {display: flex;align-items: stretch;justify-content: center;background-color: white;position: relative;}#sk-container-id-1 div.sk-item::before, #sk-container-id-1 div.sk-parallel-item::before {content: \"\";position: absolute;border-left: 1px solid gray;box-sizing: border-box;top: 0;bottom: 0;left: 50%;z-index: -1;}#sk-container-id-1 div.sk-parallel-item {display: flex;flex-direction: column;z-index: 1;position: relative;background-color: white;}#sk-container-id-1 div.sk-parallel-item:first-child::after {align-self: flex-end;width: 50%;}#sk-container-id-1 div.sk-parallel-item:last-child::after {align-self: flex-start;width: 50%;}#sk-container-id-1 div.sk-parallel-item:only-child::after {width: 0;}#sk-container-id-1 div.sk-dashed-wrapped {border: 1px dashed gray;margin: 0 0.4em 0.5em 0.4em;box-sizing: border-box;padding-bottom: 0.4em;background-color: white;}#sk-container-id-1 div.sk-label label {font-family: monospace;font-weight: bold;display: inline-block;line-height: 1.2em;}#sk-container-id-1 div.sk-label-container {text-align: center;}#sk-container-id-1 div.sk-container {/* jupyter's `normalize.less` sets `[hidden] { display: none; }` but bootstrap.min.css set `[hidden] { display: none !important; }` so we also need the `!important` here to be able to override the default hidden behavior on the sphinx rendered scikit-learn.org. See: https://github.com/scikit-learn/scikit-learn/issues/21755 */display: inline-block !important;position: relative;}#sk-container-id-1 div.sk-text-repr-fallback {display: none;}</style><div id=\"sk-container-id-1\" class=\"sk-top-container\"><div class=\"sk-text-repr-fallback\"><pre>LogisticRegression(max_iter=200, random_state=1)</pre><b>In a Jupyter environment, please rerun this cell to show the HTML representation or trust the notebook. <br />On GitHub, the HTML representation is unable to render, please try loading this page with nbviewer.org.</b></div><div class=\"sk-container\" hidden><div class=\"sk-item\"><div class=\"sk-estimator sk-toggleable\"><input class=\"sk-toggleable__control sk-hidden--visually\" id=\"sk-estimator-id-1\" type=\"checkbox\" checked><label for=\"sk-estimator-id-1\" class=\"sk-toggleable__label sk-toggleable__label-arrow\">LogisticRegression</label><div class=\"sk-toggleable__content\"><pre>LogisticRegression(max_iter=200, random_state=1)</pre></div></div></div></div></div>"
      ],
      "text/plain": [
       "LogisticRegression(max_iter=200, random_state=1)"
      ]
     },
     "execution_count": 10,
     "metadata": {},
     "output_type": "execute_result"
    }
   ],
   "source": [
    "from sklearn.linear_model import LogisticRegression\n",
    "lrm = LogisticRegression(solver='lbfgs', max_iter=200, random_state=1)\n",
    "lrm.fit(X_train, y_train)"
   ]
  },
  {
   "cell_type": "code",
   "execution_count": 11,
   "id": "9116d0a8",
   "metadata": {},
   "outputs": [
    {
     "data": {
      "text/plain": [
       "0.6272662213740459"
      ]
     },
     "execution_count": 11,
     "metadata": {},
     "output_type": "execute_result"
    }
   ],
   "source": [
    "# Calculated the balanced accuracy score\n",
    "y_pred_lrm = lrm.predict(X_test)\n",
    "balanced_accuracy_score(y_test, y_pred_lrm)"
   ]
  },
  {
   "cell_type": "code",
   "execution_count": 12,
   "id": "000728fe",
   "metadata": {},
   "outputs": [
    {
     "data": {
      "text/plain": [
       "array([[255,   7],\n",
       "       [ 23,   9]], dtype=int64)"
      ]
     },
     "execution_count": 12,
     "metadata": {},
     "output_type": "execute_result"
    }
   ],
   "source": [
    "# Display the confusion matrix\n",
    "confusion_matrix(y_test, y_pred_lrm)"
   ]
  },
  {
   "cell_type": "code",
   "execution_count": 13,
   "id": "0c7072b4",
   "metadata": {},
   "outputs": [
    {
     "name": "stdout",
     "output_type": "stream",
     "text": [
      "                   pre       rec       spe        f1       geo       iba       sup\n",
      "\n",
      "        0.0       0.92      0.97      0.28      0.94      0.52      0.29       262\n",
      "        1.0       0.56      0.28      0.97      0.38      0.52      0.25        32\n",
      "\n",
      "avg / total       0.88      0.90      0.36      0.88      0.52      0.29       294\n",
      "\n"
     ]
    }
   ],
   "source": [
    "# Print the imbalanced classification report\n",
    "print(classification_report_imbalanced(y_test, y_pred_lrm))"
   ]
  },
  {
   "cell_type": "code",
   "execution_count": 14,
   "id": "b159cb72",
   "metadata": {},
   "outputs": [
    {
     "name": "stdout",
     "output_type": "stream",
     "text": [
      "                     Feature  Importance\n",
      "46                      PCO2    0.777459\n",
      "41                 Anion gap    0.571984\n",
      "35             Urea nitrogen    0.496871\n",
      "45               Lactic acid    0.284043\n",
      "40                  Chloride    0.266538\n",
      "12                heart rate    0.259083\n",
      "27               Neutrophils    0.224427\n",
      "25                 Leucocyte    0.222969\n",
      "24                       RDW    0.217927\n",
      "30                        PT    0.186489\n",
      "42             Magnesium ion    0.171375\n",
      "15          Respiratory rate    0.165249\n",
      "43                        PH    0.157296\n",
      "37           Blood potassium    0.147617\n",
      "4         atrialfibrillation    0.130446\n",
      "13   Systolic blood pressure    0.112462\n",
      "23                       MCV    0.096582\n",
      "5             CHD with no MI    0.086520\n",
      "33           Creatine kinase    0.076736\n",
      "28                 Basophils    0.059791\n",
      "29                Lymphocyte    0.056757\n",
      "32                 NT-proBNP    0.024448\n",
      "19                hematocrit    0.012945\n",
      "0                        age    0.011732\n",
      "36                   glucose    0.004874\n",
      "20                       RBC   -0.006585\n",
      "2                        BMI   -0.015416\n",
      "47                        EF   -0.015527\n",
      "38              Blood sodium   -0.031203\n",
      "3               hypertensive   -0.051279\n",
      "21                       MCH   -0.054861\n",
      "9               Hyperlipemia   -0.062085\n",
      "31                       INR   -0.078640\n",
      "22                      MCHC   -0.106751\n",
      "8                 depression   -0.120253\n",
      "1                    gendera   -0.125041\n",
      "16               temperature   -0.142433\n",
      "6                   diabetes   -0.185663\n",
      "17                     SP O2   -0.190750\n",
      "7          deficiencyanemias   -0.232427\n",
      "18              Urine output   -0.235727\n",
      "11                      COPD   -0.261114\n",
      "26                 Platelets   -0.281305\n",
      "39             Blood calcium   -0.351154\n",
      "14  Diastolic blood pressure   -0.388302\n",
      "44               Bicarbonate   -0.401339\n",
      "34                Creatinine   -0.434986\n",
      "10             Renal failure   -0.552521\n"
     ]
    }
   ],
   "source": [
    "importances = pd.DataFrame(data={\n",
    "    'Feature': X.columns,\n",
    "    'Importance': lrm.coef_[0]\n",
    "})\n",
    "importances = importances.sort_values(by='Importance', ascending=False)\n",
    "print(importances)"
   ]
  },
  {
   "cell_type": "code",
   "execution_count": 15,
   "id": "a4f1c856",
   "metadata": {},
   "outputs": [
    {
     "data": {
      "image/png": "[encoded data removed]",
      "text/plain": [
       "<Figure size 576x432 with 1 Axes>"
      ]
     },
     "metadata": {
      "needs_background": "light"
     },
     "output_type": "display_data"
    }
   ],
   "source": [
    "#roc-curve\n",
    "fig, (ax2) = plt.subplots(figsize = (8,6))\n",
    "fpr, tpr, thresholds_roc = roc_curve(y_test,y_pred_lrm)\n",
    "roc_auc = auc(fpr,tpr)\n",
    "ax2.plot(fpr,tpr, label = \" AUROC = {:0.2f}\".format(roc_auc))\n",
    "ax2.plot([0,1], [0,1], 'r', linestyle = \"--\", lw = 2)\n",
    "ax2.set_xlabel(\"False Positive Rate\", fontsize = 14)\n",
    "ax2.set_ylabel(\"True Positive Rate\", fontsize = 14)\n",
    "ax2.set_title(\"ROC Curve\", fontsize = 18)\n",
    "ax2.legend(loc = 'best')\n",
    "plt.title('ROC curve for Linear Regression Model')\n",
    "plt.xlabel('False Positive Rate (1 - Specificity)')\n",
    "plt.ylabel('True Positive Rate (Sensitivity)')\n",
    "        #find default threshold\n",
    "close_default = np.argmin(np.abs(thresholds_roc - 0.5))\n",
    "ax2.plot(fpr[close_default], tpr[close_default], 'o', markersize = 8)\n",
    "plt.tight_layout()"
   ]
  },
  {
   "cell_type": "markdown",
   "id": "e1269daf",
   "metadata": {},
   "source": [
    "# Balanced Random Forest Classifier"
   ]
  },
  {
   "cell_type": "code",
   "execution_count": 16,
   "id": "fa8dbb9a",
   "metadata": {},
   "outputs": [
    {
     "data": {
      "text/html": [
       "<style>#sk-container-id-2 {color: black;background-color: white;}#sk-container-id-2 pre{padding: 0;}#sk-container-id-2 div.sk-toggleable {background-color: white;}#sk-container-id-2 label.sk-toggleable__label {cursor: pointer;display: block;width: 100%;margin-bottom: 0;padding: 0.3em;box-sizing: border-box;text-align: center;}#sk-container-id-2 label.sk-toggleable__label-arrow:before {content: \"▸\";float: left;margin-right: 0.25em;color: #696969;}#sk-container-id-2 label.sk-toggleable__label-arrow:hover:before {color: black;}#sk-container-id-2 div.sk-estimator:hover label.sk-toggleable__label-arrow:before {color: black;}#sk-container-id-2 div.sk-toggleable__content {max-height: 0;max-width: 0;overflow: hidden;text-align: left;background-color: #f0f8ff;}#sk-container-id-2 div.sk-toggleable__content pre {margin: 0.2em;color: black;border-radius: 0.25em;background-color: #f0f8ff;}#sk-container-id-2 input.sk-toggleable__control:checked~div.sk-toggleable__content {max-height: 200px;max-width: 100%;overflow: auto;}#sk-container-id-2 input.sk-toggleable__control:checked~label.sk-toggleable__label-arrow:before {content: \"▾\";}#sk-container-id-2 div.sk-estimator input.sk-toggleable__control:checked~label.sk-toggleable__label {background-color: #d4ebff;}#sk-container-id-2 div.sk-label input.sk-toggleable__control:checked~label.sk-toggleable__label {background-color: #d4ebff;}#sk-container-id-2 input.sk-hidden--visually {border: 0;clip: rect(1px 1px 1px 1px);clip: rect(1px, 1px, 1px, 1px);height: 1px;margin: -1px;overflow: hidden;padding: 0;position: absolute;width: 1px;}#sk-container-id-2 div.sk-estimator {font-family: monospace;background-color: #f0f8ff;border: 1px dotted black;border-radius: 0.25em;box-sizing: border-box;margin-bottom: 0.5em;}#sk-container-id-2 div.sk-estimator:hover {background-color: #d4ebff;}#sk-container-id-2 div.sk-parallel-item::after {content: \"\";width: 100%;border-bottom: 1px solid gray;flex-grow: 1;}#sk-container-id-2 div.sk-label:hover label.sk-toggleable__label {background-color: #d4ebff;}#sk-container-id-2 div.sk-serial::before {content: \"\";position: absolute;border-left: 1px solid gray;box-sizing: border-box;top: 0;bottom: 0;left: 50%;z-index: 0;}#sk-container-id-2 div.sk-serial {display: flex;flex-direction: column;align-items: center;background-color: white;padding-right: 0.2em;padding-left: 0.2em;position: relative;}#sk-container-id-2 div.sk-item {position: relative;z-index: 1;}#sk-container-id-2 div.sk-parallel {display: flex;align-items: stretch;justify-content: center;background-color: white;position: relative;}#sk-container-id-2 div.sk-item::before, #sk-container-id-2 div.sk-parallel-item::before {content: \"\";position: absolute;border-left: 1px solid gray;box-sizing: border-box;top: 0;bottom: 0;left: 50%;z-index: -1;}#sk-container-id-2 div.sk-parallel-item {display: flex;flex-direction: column;z-index: 1;position: relative;background-color: white;}#sk-container-id-2 div.sk-parallel-item:first-child::after {align-self: flex-end;width: 50%;}#sk-container-id-2 div.sk-parallel-item:last-child::after {align-self: flex-start;width: 50%;}#sk-container-id-2 div.sk-parallel-item:only-child::after {width: 0;}#sk-container-id-2 div.sk-dashed-wrapped {border: 1px dashed gray;margin: 0 0.4em 0.5em 0.4em;box-sizing: border-box;padding-bottom: 0.4em;background-color: white;}#sk-container-id-2 div.sk-label label {font-family: monospace;font-weight: bold;display: inline-block;line-height: 1.2em;}#sk-container-id-2 div.sk-label-container {text-align: center;}#sk-container-id-2 div.sk-container {/* jupyter's `normalize.less` sets `[hidden] { display: none; }` but bootstrap.min.css set `[hidden] { display: none !important; }` so we also need the `!important` here to be able to override the default hidden behavior on the sphinx rendered scikit-learn.org. See: https://github.com/scikit-learn/scikit-learn/issues/21755 */display: inline-block !important;position: relative;}#sk-container-id-2 div.sk-text-repr-fallback {display: none;}</style><div id=\"sk-container-id-2\" class=\"sk-top-container\"><div class=\"sk-text-repr-fallback\"><pre>BalancedRandomForestClassifier(random_state=1)</pre><b>In a Jupyter environment, please rerun this cell to show the HTML representation or trust the notebook. <br />On GitHub, the HTML representation is unable to render, please try loading this page with nbviewer.org.</b></div><div class=\"sk-container\" hidden><div class=\"sk-item\"><div class=\"sk-estimator sk-toggleable\"><input class=\"sk-toggleable__control sk-hidden--visually\" id=\"sk-estimator-id-2\" type=\"checkbox\" checked><label for=\"sk-estimator-id-2\" class=\"sk-toggleable__label sk-toggleable__label-arrow\">BalancedRandomForestClassifier</label><div class=\"sk-toggleable__content\"><pre>BalancedRandomForestClassifier(random_state=1)</pre></div></div></div></div></div>"
      ],
      "text/plain": [
       "BalancedRandomForestClassifier(random_state=1)"
      ]
     },
     "execution_count": 16,
     "metadata": {},
     "output_type": "execute_result"
    }
   ],
   "source": [
    "# Resample the training data with the BalancedRandomForestClassifier\n",
    "from imblearn.ensemble import BalancedRandomForestClassifier\n",
    "brf = BalancedRandomForestClassifier(n_estimators=100, random_state=1)\n",
    "brf.fit(X_train, y_train) "
   ]
  },
  {
   "cell_type": "code",
   "execution_count": 17,
   "id": "66bcbe75",
   "metadata": {},
   "outputs": [
    {
     "data": {
      "text/plain": [
       "0.7303196564885497"
      ]
     },
     "execution_count": 17,
     "metadata": {},
     "output_type": "execute_result"
    }
   ],
   "source": [
    "# Calculated the balanced accuracy score\n",
    "y_pred_brf = brf.predict(X_test)\n",
    "balanced_accuracy_score(y_test, y_pred_brf)"
   ]
  },
  {
   "cell_type": "code",
   "execution_count": 18,
   "id": "46a527cd",
   "metadata": {},
   "outputs": [
    {
     "data": {
      "text/plain": [
       "array([[178,  84],\n",
       "       [  7,  25]], dtype=int64)"
      ]
     },
     "execution_count": 18,
     "metadata": {},
     "output_type": "execute_result"
    }
   ],
   "source": [
    "# Display the confusion matrix\n",
    "confusion_matrix(y_test, y_pred_brf)"
   ]
  },
  {
   "cell_type": "code",
   "execution_count": 19,
   "id": "e61ee16c",
   "metadata": {},
   "outputs": [
    {
     "name": "stdout",
     "output_type": "stream",
     "text": [
      "                   pre       rec       spe        f1       geo       iba       sup\n",
      "\n",
      "        0.0       0.96      0.68      0.78      0.80      0.73      0.53       262\n",
      "        1.0       0.23      0.78      0.68      0.35      0.73      0.54        32\n",
      "\n",
      "avg / total       0.88      0.69      0.77      0.75      0.73      0.53       294\n",
      "\n"
     ]
    }
   ],
   "source": [
    "# Print the imbalanced classification report\n",
    "print(classification_report_imbalanced(y_test, y_pred_brf))"
   ]
  },
  {
   "cell_type": "code",
   "execution_count": 20,
   "id": "1bfc5b0f",
   "metadata": {},
   "outputs": [
    {
     "data": {
      "text/plain": [
       "[(0.0484554096197489, 'Urine output'),\n",
       " (0.04539525854492983, 'Anion gap'),\n",
       " (0.04302883958213253, 'Leucocyte'),\n",
       " (0.04192391904592612, 'Lactic acid'),\n",
       " (0.039868669701669746, 'Blood calcium'),\n",
       " (0.038168423456662826, 'Urea nitrogen'),\n",
       " (0.03740080022038453, 'Bicarbonate'),\n",
       " (0.03714396030289255, 'Lymphocyte'),\n",
       " (0.03155907863259778, 'RDW'),\n",
       " (0.028375947892549644, 'temperature'),\n",
       " (0.027197430824415506, 'Platelets'),\n",
       " (0.02685106411381188, 'Respiratory rate'),\n",
       " (0.025829493653189824, 'Diastolic blood pressure'),\n",
       " (0.025345764752643857, 'Neutrophils'),\n",
       " (0.02534226268594313, 'MCV'),\n",
       " (0.024334792692192974, 'Systolic blood pressure'),\n",
       " (0.02370446904821123, 'Creatinine'),\n",
       " (0.02364053713533079, 'Blood sodium'),\n",
       " (0.023559130450758463, 'PH'),\n",
       " (0.02353884351785429, 'PT'),\n",
       " (0.0232387961689414, 'NT-proBNP'),\n",
       " (0.022855415863711287, 'Creatine kinase'),\n",
       " (0.021162321576604824, 'Magnesium ion'),\n",
       " (0.021129637745791085, 'BMI'),\n",
       " (0.020826537950895493, 'SP O2'),\n",
       " (0.0207951958659796, 'glucose'),\n",
       " (0.02059796104077595, 'INR'),\n",
       " (0.02018829197800523, 'Chloride'),\n",
       " (0.020024725752962325, 'Blood potassium'),\n",
       " (0.019395437315385015, 'heart rate'),\n",
       " (0.01877663584140545, 'MCHC'),\n",
       " (0.016657685455901704, 'PCO2'),\n",
       " (0.015837790312171432, 'MCH'),\n",
       " (0.01575753034385062, 'age'),\n",
       " (0.01490572483272845, 'RBC'),\n",
       " (0.013903885947748893, 'hematocrit'),\n",
       " (0.011797081688326003, 'Basophils'),\n",
       " (0.008146654761856243, 'Renal failure'),\n",
       " (0.007835093837647914, 'EF'),\n",
       " (0.006274750972163642, 'deficiencyanemias'),\n",
       " (0.004549801714866267, 'atrialfibrillation'),\n",
       " (0.004025896853691011, 'Hyperlipemia'),\n",
       " (0.0033526916746755187, 'hypertensive'),\n",
       " (0.002345288156143492, 'diabetes'),\n",
       " (0.001619221534265865, 'depression'),\n",
       " (0.0012899264622669227, 'gendera'),\n",
       " (0.001082370816374469, 'CHD with no MI'),\n",
       " (0.0009635516610175046, 'COPD')]"
      ]
     },
     "execution_count": 20,
     "metadata": {},
     "output_type": "execute_result"
    }
   ],
   "source": [
    "# List the features sorted in descending order by feature importance\n",
    "sorted(zip(brf.feature_importances_, X.columns), reverse=True)"
   ]
  },
  {
   "cell_type": "code",
   "execution_count": 21,
   "id": "a8391261",
   "metadata": {},
   "outputs": [
    {
     "data": {
      "image/png": "[encoded data removed]",
      "text/plain": [
       "<Figure size 576x432 with 1 Axes>"
      ]
     },
     "metadata": {
      "needs_background": "light"
     },
     "output_type": "display_data"
    }
   ],
   "source": [
    "#roc-curve\n",
    "fig, (ax2) = plt.subplots(figsize = (8,6))\n",
    "fpr, tpr, thresholds_roc = roc_curve(y_test,y_pred_brf)\n",
    "roc_auc = auc(fpr,tpr)\n",
    "ax2.plot(fpr,tpr, label = \" AUROC = {:0.2f}\".format(roc_auc))\n",
    "ax2.plot([0,1], [0,1], 'r', linestyle = \"--\", lw = 2)\n",
    "ax2.set_xlabel(\"False Positive Rate\", fontsize = 14)\n",
    "ax2.set_ylabel(\"True Positive Rate\", fontsize = 14)\n",
    "ax2.set_title(\"ROC Curve\", fontsize = 18)\n",
    "ax2.legend(loc = 'best')\n",
    "plt.title('ROC curve for RandomForestClassifier')\n",
    "plt.xlabel('False Positive Rate (1 - Specificity)')\n",
    "plt.ylabel('True Positive Rate (Sensitivity)')\n",
    "        #find default threshold\n",
    "close_default = np.argmin(np.abs(thresholds_roc - 0.5))\n",
    "ax2.plot(fpr[close_default], tpr[close_default], 'o', markersize = 8)\n",
    "plt.tight_layout()"
   ]
  },
  {
   "cell_type": "markdown",
   "id": "cde31b3f",
   "metadata": {},
   "source": [
    "# Easy Ensemble AdaBoost Classifier"
   ]
  },
  {
   "cell_type": "code",
   "execution_count": 22,
   "id": "0b1f66c6",
   "metadata": {},
   "outputs": [
    {
     "data": {
      "text/html": [
       "<style>#sk-container-id-3 {color: black;background-color: white;}#sk-container-id-3 pre{padding: 0;}#sk-container-id-3 div.sk-toggleable {background-color: white;}#sk-container-id-3 label.sk-toggleable__label {cursor: pointer;display: block;width: 100%;margin-bottom: 0;padding: 0.3em;box-sizing: border-box;text-align: center;}#sk-container-id-3 label.sk-toggleable__label-arrow:before {content: \"▸\";float: left;margin-right: 0.25em;color: #696969;}#sk-container-id-3 label.sk-toggleable__label-arrow:hover:before {color: black;}#sk-container-id-3 div.sk-estimator:hover label.sk-toggleable__label-arrow:before {color: black;}#sk-container-id-3 div.sk-toggleable__content {max-height: 0;max-width: 0;overflow: hidden;text-align: left;background-color: #f0f8ff;}#sk-container-id-3 div.sk-toggleable__content pre {margin: 0.2em;color: black;border-radius: 0.25em;background-color: #f0f8ff;}#sk-container-id-3 input.sk-toggleable__control:checked~div.sk-toggleable__content {max-height: 200px;max-width: 100%;overflow: auto;}#sk-container-id-3 input.sk-toggleable__control:checked~label.sk-toggleable__label-arrow:before {content: \"▾\";}#sk-container-id-3 div.sk-estimator input.sk-toggleable__control:checked~label.sk-toggleable__label {background-color: #d4ebff;}#sk-container-id-3 div.sk-label input.sk-toggleable__control:checked~label.sk-toggleable__label {background-color: #d4ebff;}#sk-container-id-3 input.sk-hidden--visually {border: 0;clip: rect(1px 1px 1px 1px);clip: rect(1px, 1px, 1px, 1px);height: 1px;margin: -1px;overflow: hidden;padding: 0;position: absolute;width: 1px;}#sk-container-id-3 div.sk-estimator {font-family: monospace;background-color: #f0f8ff;border: 1px dotted black;border-radius: 0.25em;box-sizing: border-box;margin-bottom: 0.5em;}#sk-container-id-3 div.sk-estimator:hover {background-color: #d4ebff;}#sk-container-id-3 div.sk-parallel-item::after {content: \"\";width: 100%;border-bottom: 1px solid gray;flex-grow: 1;}#sk-container-id-3 div.sk-label:hover label.sk-toggleable__label {background-color: #d4ebff;}#sk-container-id-3 div.sk-serial::before {content: \"\";position: absolute;border-left: 1px solid gray;box-sizing: border-box;top: 0;bottom: 0;left: 50%;z-index: 0;}#sk-container-id-3 div.sk-serial {display: flex;flex-direction: column;align-items: center;background-color: white;padding-right: 0.2em;padding-left: 0.2em;position: relative;}#sk-container-id-3 div.sk-item {position: relative;z-index: 1;}#sk-container-id-3 div.sk-parallel {display: flex;align-items: stretch;justify-content: center;background-color: white;position: relative;}#sk-container-id-3 div.sk-item::before, #sk-container-id-3 div.sk-parallel-item::before {content: \"\";position: absolute;border-left: 1px solid gray;box-sizing: border-box;top: 0;bottom: 0;left: 50%;z-index: -1;}#sk-container-id-3 div.sk-parallel-item {display: flex;flex-direction: column;z-index: 1;position: relative;background-color: white;}#sk-container-id-3 div.sk-parallel-item:first-child::after {align-self: flex-end;width: 50%;}#sk-container-id-3 div.sk-parallel-item:last-child::after {align-self: flex-start;width: 50%;}#sk-container-id-3 div.sk-parallel-item:only-child::after {width: 0;}#sk-container-id-3 div.sk-dashed-wrapped {border: 1px dashed gray;margin: 0 0.4em 0.5em 0.4em;box-sizing: border-box;padding-bottom: 0.4em;background-color: white;}#sk-container-id-3 div.sk-label label {font-family: monospace;font-weight: bold;display: inline-block;line-height: 1.2em;}#sk-container-id-3 div.sk-label-container {text-align: center;}#sk-container-id-3 div.sk-container {/* jupyter's `normalize.less` sets `[hidden] { display: none; }` but bootstrap.min.css set `[hidden] { display: none !important; }` so we also need the `!important` here to be able to override the default hidden behavior on the sphinx rendered scikit-learn.org. See: https://github.com/scikit-learn/scikit-learn/issues/21755 */display: inline-block !important;position: relative;}#sk-container-id-3 div.sk-text-repr-fallback {display: none;}</style><div id=\"sk-container-id-3\" class=\"sk-top-container\"><div class=\"sk-text-repr-fallback\"><pre>EasyEnsembleClassifier(random_state=1)</pre><b>In a Jupyter environment, please rerun this cell to show the HTML representation or trust the notebook. <br />On GitHub, the HTML representation is unable to render, please try loading this page with nbviewer.org.</b></div><div class=\"sk-container\" hidden><div class=\"sk-item\"><div class=\"sk-estimator sk-toggleable\"><input class=\"sk-toggleable__control sk-hidden--visually\" id=\"sk-estimator-id-3\" type=\"checkbox\" checked><label for=\"sk-estimator-id-3\" class=\"sk-toggleable__label sk-toggleable__label-arrow\">EasyEnsembleClassifier</label><div class=\"sk-toggleable__content\"><pre>EasyEnsembleClassifier(random_state=1)</pre></div></div></div></div></div>"
      ],
      "text/plain": [
       "EasyEnsembleClassifier(random_state=1)"
      ]
     },
     "execution_count": 22,
     "metadata": {},
     "output_type": "execute_result"
    }
   ],
   "source": [
    "# Train the EasyEnsembleClassifier\n",
    "from imblearn.ensemble import EasyEnsembleClassifier\n",
    "eec = EasyEnsembleClassifier(random_state=1)\n",
    "eec.fit(X_train, y_train)"
   ]
  },
  {
   "cell_type": "code",
   "execution_count": 23,
   "id": "399a6678",
   "metadata": {},
   "outputs": [
    {
     "data": {
      "text/plain": [
       "0.7325858778625954"
      ]
     },
     "execution_count": 23,
     "metadata": {},
     "output_type": "execute_result"
    }
   ],
   "source": [
    "# Calculated the balanced accuracy score\n",
    "y_pred_eec = eec.predict(X_test)\n",
    "balanced_accuracy_score(y_test, y_pred_eec)"
   ]
  },
  {
   "cell_type": "code",
   "execution_count": 24,
   "id": "b2cb36d1",
   "metadata": {},
   "outputs": [
    {
     "data": {
      "text/plain": [
       "array([[171,  91],\n",
       "       [  6,  26]], dtype=int64)"
      ]
     },
     "execution_count": 24,
     "metadata": {},
     "output_type": "execute_result"
    }
   ],
   "source": [
    "# Display the confusion matrix\n",
    "confusion_matrix(y_test, y_pred_eec)"
   ]
  },
  {
   "cell_type": "code",
   "execution_count": 25,
   "id": "6bc41dfb",
   "metadata": {},
   "outputs": [
    {
     "name": "stdout",
     "output_type": "stream",
     "text": [
      "                   pre       rec       spe        f1       geo       iba       sup\n",
      "\n",
      "        0.0       0.97      0.65      0.81      0.78      0.73      0.52       262\n",
      "        1.0       0.22      0.81      0.65      0.35      0.73      0.54        32\n",
      "\n",
      "avg / total       0.89      0.67      0.80      0.73      0.73      0.52       294\n",
      "\n"
     ]
    }
   ],
   "source": [
    "# Print the imbalanced classification report\n",
    "print(classification_report_imbalanced(y_test, y_pred_eec))"
   ]
  },
  {
   "cell_type": "code",
   "execution_count": 26,
   "id": "ce076cf3",
   "metadata": {},
   "outputs": [
    {
     "data": {
      "image/png": "[encoded data removed]",
      "text/plain": [
       "<Figure size 576x432 with 1 Axes>"
      ]
     },
     "metadata": {
      "needs_background": "light"
     },
     "output_type": "display_data"
    }
   ],
   "source": [
    "#roc-curve\n",
    "fig, (ax2) = plt.subplots(figsize = (8,6))\n",
    "fpr, tpr, thresholds_roc = roc_curve(y_test,y_pred_eec)\n",
    "roc_auc = auc(fpr,tpr)\n",
    "ax2.plot(fpr,tpr, label = \" AUROC = {:0.2f}\".format(roc_auc))\n",
    "ax2.plot([0,1], [0,1], 'r', linestyle = \"--\", lw = 2)\n",
    "ax2.set_xlabel(\"False Positive Rate\", fontsize = 14)\n",
    "ax2.set_ylabel(\"True Positive Rate\", fontsize = 14)\n",
    "ax2.set_title(\"ROC Curve\", fontsize = 18)\n",
    "ax2.legend(loc = 'best')\n",
    "plt.title('ROC curve for AdaBoost Classifier ')\n",
    "plt.xlabel('False Positive Rate (1 - Specificity)')\n",
    "plt.ylabel('True Positive Rate (Sensitivity)')\n",
    "        #find default threshold\n",
    "close_default = np.argmin(np.abs(thresholds_roc - 0.5))\n",
    "ax2.plot(fpr[close_default], tpr[close_default], 'o', markersize = 8)\n",
    "plt.tight_layout()"
   ]
  },
  {
   "cell_type": "markdown",
   "id": "75f6a971",
   "metadata": {},
   "source": [
    "# XGB Classifier"
   ]
  },
  {
   "cell_type": "code",
   "execution_count": 27,
   "id": "9109daf5",
   "metadata": {},
   "outputs": [
    {
     "name": "stdout",
     "output_type": "stream",
     "text": [
      "[11:40:09] WARNING: C:/Users/Administrator/workspace/xgboost-win64_release_1.6.0/src/learner.cc:627: \n",
      "Parameters: { \"n_estimator\" } might not be used.\n",
      "\n",
      "  This could be a false alarm, with some parameters getting used by language bindings but\n",
      "  then being mistakenly passed down to XGBoost core, or some parameter actually being used\n",
      "  but getting flagged wrongly here. Please open an issue if you find any such cases.\n",
      "\n",
      "\n"
     ]
    },
    {
     "data": {
      "text/html": [
       "<style>#sk-container-id-4 {color: black;background-color: white;}#sk-container-id-4 pre{padding: 0;}#sk-container-id-4 div.sk-toggleable {background-color: white;}#sk-container-id-4 label.sk-toggleable__label {cursor: pointer;display: block;width: 100%;margin-bottom: 0;padding: 0.3em;box-sizing: border-box;text-align: center;}#sk-container-id-4 label.sk-toggleable__label-arrow:before {content: \"▸\";float: left;margin-right: 0.25em;color: #696969;}#sk-container-id-4 label.sk-toggleable__label-arrow:hover:before {color: black;}#sk-container-id-4 div.sk-estimator:hover label.sk-toggleable__label-arrow:before {color: black;}#sk-container-id-4 div.sk-toggleable__content {max-height: 0;max-width: 0;overflow: hidden;text-align: left;background-color: #f0f8ff;}#sk-container-id-4 div.sk-toggleable__content pre {margin: 0.2em;color: black;border-radius: 0.25em;background-color: #f0f8ff;}#sk-container-id-4 input.sk-toggleable__control:checked~div.sk-toggleable__content {max-height: 200px;max-width: 100%;overflow: auto;}#sk-container-id-4 input.sk-toggleable__control:checked~label.sk-toggleable__label-arrow:before {content: \"▾\";}#sk-container-id-4 div.sk-estimator input.sk-toggleable__control:checked~label.sk-toggleable__label {background-color: #d4ebff;}#sk-container-id-4 div.sk-label input.sk-toggleable__control:checked~label.sk-toggleable__label {background-color: #d4ebff;}#sk-container-id-4 input.sk-hidden--visually {border: 0;clip: rect(1px 1px 1px 1px);clip: rect(1px, 1px, 1px, 1px);height: 1px;margin: -1px;overflow: hidden;padding: 0;position: absolute;width: 1px;}#sk-container-id-4 div.sk-estimator {font-family: monospace;background-color: #f0f8ff;border: 1px dotted black;border-radius: 0.25em;box-sizing: border-box;margin-bottom: 0.5em;}#sk-container-id-4 div.sk-estimator:hover {background-color: #d4ebff;}#sk-container-id-4 div.sk-parallel-item::after {content: \"\";width: 100%;border-bottom: 1px solid gray;flex-grow: 1;}#sk-container-id-4 div.sk-label:hover label.sk-toggleable__label {background-color: #d4ebff;}#sk-container-id-4 div.sk-serial::before {content: \"\";position: absolute;border-left: 1px solid gray;box-sizing: border-box;top: 0;bottom: 0;left: 50%;z-index: 0;}#sk-container-id-4 div.sk-serial {display: flex;flex-direction: column;align-items: center;background-color: white;padding-right: 0.2em;padding-left: 0.2em;position: relative;}#sk-container-id-4 div.sk-item {position: relative;z-index: 1;}#sk-container-id-4 div.sk-parallel {display: flex;align-items: stretch;justify-content: center;background-color: white;position: relative;}#sk-container-id-4 div.sk-item::before, #sk-container-id-4 div.sk-parallel-item::before {content: \"\";position: absolute;border-left: 1px solid gray;box-sizing: border-box;top: 0;bottom: 0;left: 50%;z-index: -1;}#sk-container-id-4 div.sk-parallel-item {display: flex;flex-direction: column;z-index: 1;position: relative;background-color: white;}#sk-container-id-4 div.sk-parallel-item:first-child::after {align-self: flex-end;width: 50%;}#sk-container-id-4 div.sk-parallel-item:last-child::after {align-self: flex-start;width: 50%;}#sk-container-id-4 div.sk-parallel-item:only-child::after {width: 0;}#sk-container-id-4 div.sk-dashed-wrapped {border: 1px dashed gray;margin: 0 0.4em 0.5em 0.4em;box-sizing: border-box;padding-bottom: 0.4em;background-color: white;}#sk-container-id-4 div.sk-label label {font-family: monospace;font-weight: bold;display: inline-block;line-height: 1.2em;}#sk-container-id-4 div.sk-label-container {text-align: center;}#sk-container-id-4 div.sk-container {/* jupyter's `normalize.less` sets `[hidden] { display: none; }` but bootstrap.min.css set `[hidden] { display: none !important; }` so we also need the `!important` here to be able to override the default hidden behavior on the sphinx rendered scikit-learn.org. See: https://github.com/scikit-learn/scikit-learn/issues/21755 */display: inline-block !important;position: relative;}#sk-container-id-4 div.sk-text-repr-fallback {display: none;}</style><div id=\"sk-container-id-4\" class=\"sk-top-container\"><div class=\"sk-text-repr-fallback\"><pre>XGBClassifier(base_score=0.5, booster=&#x27;gbtree&#x27;, callbacks=None,\n",
       "              colsample_bylevel=1, colsample_bynode=1, colsample_bytree=1,\n",
       "              early_stopping_rounds=None, enable_categorical=False,\n",
       "              eval_metric=None, gamma=0, gpu_id=-1, grow_policy=&#x27;depthwise&#x27;,\n",
       "              importance_type=None, interaction_constraints=&#x27;&#x27;,\n",
       "              learning_rate=0.300000012, max_bin=256, max_cat_to_onehot=4,\n",
       "              max_delta_step=0, max_depth=6, max_leaves=0, min_child_weight=1,\n",
       "              missing=nan, monotone_constraints=&#x27;()&#x27;, n_estimator=200,\n",
       "              n_estimators=100, n_jobs=0, num_parallel_tree=1, predictor=&#x27;auto&#x27;,\n",
       "              random_state=1, reg_alpha=0, ...)</pre><b>In a Jupyter environment, please rerun this cell to show the HTML representation or trust the notebook. <br />On GitHub, the HTML representation is unable to render, please try loading this page with nbviewer.org.</b></div><div class=\"sk-container\" hidden><div class=\"sk-item\"><div class=\"sk-estimator sk-toggleable\"><input class=\"sk-toggleable__control sk-hidden--visually\" id=\"sk-estimator-id-4\" type=\"checkbox\" checked><label for=\"sk-estimator-id-4\" class=\"sk-toggleable__label sk-toggleable__label-arrow\">XGBClassifier</label><div class=\"sk-toggleable__content\"><pre>XGBClassifier(base_score=0.5, booster=&#x27;gbtree&#x27;, callbacks=None,\n",
       "              colsample_bylevel=1, colsample_bynode=1, colsample_bytree=1,\n",
       "              early_stopping_rounds=None, enable_categorical=False,\n",
       "              eval_metric=None, gamma=0, gpu_id=-1, grow_policy=&#x27;depthwise&#x27;,\n",
       "              importance_type=None, interaction_constraints=&#x27;&#x27;,\n",
       "              learning_rate=0.300000012, max_bin=256, max_cat_to_onehot=4,\n",
       "              max_delta_step=0, max_depth=6, max_leaves=0, min_child_weight=1,\n",
       "              missing=nan, monotone_constraints=&#x27;()&#x27;, n_estimator=200,\n",
       "              n_estimators=100, n_jobs=0, num_parallel_tree=1, predictor=&#x27;auto&#x27;,\n",
       "              random_state=1, reg_alpha=0, ...)</pre></div></div></div></div></div>"
      ],
      "text/plain": [
       "XGBClassifier(base_score=0.5, booster='gbtree', callbacks=None,\n",
       "              colsample_bylevel=1, colsample_bynode=1, colsample_bytree=1,\n",
       "              early_stopping_rounds=None, enable_categorical=False,\n",
       "              eval_metric=None, gamma=0, gpu_id=-1, grow_policy='depthwise',\n",
       "              importance_type=None, interaction_constraints='',\n",
       "              learning_rate=0.300000012, max_bin=256, max_cat_to_onehot=4,\n",
       "              max_delta_step=0, max_depth=6, max_leaves=0, min_child_weight=1,\n",
       "              missing=nan, monotone_constraints='()', n_estimator=200,\n",
       "              n_estimators=100, n_jobs=0, num_parallel_tree=1, predictor='auto',\n",
       "              random_state=1, reg_alpha=0, ...)"
      ]
     },
     "execution_count": 27,
     "metadata": {},
     "output_type": "execute_result"
    }
   ],
   "source": [
    "from xgboost import XGBClassifier\n",
    "from sklearn import metrics\n",
    "# Creating model object\n",
    "xgb = XGBClassifier(n_estimator=200, random_state=1)\n",
    "xgb.fit(X_train, y_train)"
   ]
  },
  {
   "cell_type": "code",
   "execution_count": 28,
   "id": "78b6cad0",
   "metadata": {},
   "outputs": [
    {
     "data": {
      "text/plain": [
       "0.6604246183206106"
      ]
     },
     "execution_count": 28,
     "metadata": {},
     "output_type": "execute_result"
    }
   ],
   "source": [
    "# Calculated the balanced accuracy score\n",
    "y_pred_xgb = xgb.predict(X_test)\n",
    "balanced_accuracy_score(y_test, y_pred_xgb)"
   ]
  },
  {
   "cell_type": "code",
   "execution_count": 29,
   "id": "c797d5c6",
   "metadata": {},
   "outputs": [
    {
     "data": {
      "text/plain": [
       "array([[256,   6],\n",
       "       [ 21,  11]], dtype=int64)"
      ]
     },
     "execution_count": 29,
     "metadata": {},
     "output_type": "execute_result"
    }
   ],
   "source": [
    "# Display the confusion matrix\n",
    "confusion_matrix(y_test, y_pred_xgb)"
   ]
  },
  {
   "cell_type": "code",
   "execution_count": 30,
   "id": "fe730399",
   "metadata": {},
   "outputs": [
    {
     "name": "stdout",
     "output_type": "stream",
     "text": [
      "                   pre       rec       spe        f1       geo       iba       sup\n",
      "\n",
      "        0.0       0.92      0.98      0.34      0.95      0.58      0.36       262\n",
      "        1.0       0.65      0.34      0.98      0.45      0.58      0.31        32\n",
      "\n",
      "avg / total       0.89      0.91      0.41      0.90      0.58      0.35       294\n",
      "\n"
     ]
    }
   ],
   "source": [
    "# Print the imbalanced classification report\n",
    "print(classification_report_imbalanced(y_test, y_pred_xgb))"
   ]
  },
  {
   "cell_type": "code",
   "execution_count": 31,
   "id": "1c933d6c",
   "metadata": {},
   "outputs": [
    {
     "data": {
      "image/png": "[encoded data removed]",
      "text/plain": [
       "<Figure size 576x432 with 1 Axes>"
      ]
     },
     "metadata": {
      "needs_background": "light"
     },
     "output_type": "display_data"
    }
   ],
   "source": [
    "#roc-curve\n",
    "fig, (ax2) = plt.subplots(figsize = (8,6))\n",
    "fpr, tpr, thresholds_roc = roc_curve(y_test,y_pred_xgb)\n",
    "roc_auc = auc(fpr,tpr)\n",
    "ax2.plot(fpr,tpr, label = \" AUROC = {:0.2f}\".format(roc_auc))\n",
    "ax2.plot([0,1], [0,1], 'r', linestyle = \"--\", lw = 2)\n",
    "ax2.set_xlabel(\"False Positive Rate\", fontsize = 14)\n",
    "ax2.set_ylabel(\"True Positive Rate\", fontsize = 14)\n",
    "ax2.set_title(\"ROC Curve\", fontsize = 18)\n",
    "ax2.legend(loc = 'best')\n",
    "plt.title('ROC curve for XGBClassifier ')\n",
    "plt.xlabel('False Positive Rate (1 - Specificity)')\n",
    "plt.ylabel('True Positive Rate (Sensitivity)')\n",
    "        #find default threshold\n",
    "close_default = np.argmin(np.abs(thresholds_roc - 0.5))\n",
    "ax2.plot(fpr[close_default], tpr[close_default], 'o', markersize = 8)\n",
    "plt.tight_layout()"
   ]
  },
  {
   "cell_type": "markdown",
   "id": "44bc02a7",
   "metadata": {},
   "source": [
    "# Neural Network"
   ]
  },
  {
   "cell_type": "code",
   "execution_count": 32,
   "id": "bc867bea",
   "metadata": {},
   "outputs": [
    {
     "name": "stdout",
     "output_type": "stream",
     "text": [
      "Model: \"sequential\"\n",
      "_________________________________________________________________\n",
      " Layer (type)                Output Shape              Param #   \n",
      "=================================================================\n",
      " dense (Dense)               (None, 15)                735       \n",
      "                                                                 \n",
      " dense_1 (Dense)             (None, 11)                176       \n",
      "                                                                 \n",
      " dense_2 (Dense)             (None, 5)                 60        \n",
      "                                                                 \n",
      " dense_3 (Dense)             (None, 1)                 6         \n",
      "                                                                 \n",
      "=================================================================\n",
      "Total params: 977\n",
      "Trainable params: 977\n",
      "Non-trainable params: 0\n",
      "_________________________________________________________________\n"
     ]
    }
   ],
   "source": [
    "import tensorflow as tf\n",
    "\n",
    "# Define the model - deep neural net, i.e., the number of input features and hidden nodes for each layer.\n",
    "number_input_features = len(X_train[0])\n",
    "hidden_nodes_layer1 = 15\n",
    "hidden_nodes_layer2 = 11\n",
    "hidden_nodes_layer3 = 5\n",
    "\n",
    "nn = tf.keras.models.Sequential()\n",
    "\n",
    "# First hidden layer\n",
    "nn.add(\n",
    "    tf.keras.layers.Dense(units=hidden_nodes_layer1, input_dim=number_input_features, activation=\"relu\")\n",
    ")\n",
    "\n",
    "# Second hidden layer\n",
    "nn.add(tf.keras.layers.Dense(units=hidden_nodes_layer2, activation=\"relu\"))\n",
    "\n",
    "# Third hidden layer\n",
    "nn.add(tf.keras.layers.Dense(units=hidden_nodes_layer3, activation=\"relu\"))\n",
    "\n",
    "# Output layer\n",
    "nn.add(tf.keras.layers.Dense(units=1, activation=\"sigmoid\"))\n",
    "\n",
    "# Check the structure of the model\n",
    "nn.summary()"
   ]
  },
  {
   "cell_type": "code",
   "execution_count": 33,
   "id": "61bb04fe",
   "metadata": {},
   "outputs": [],
   "source": [
    "# Compile the model\n",
    "nn.compile(loss=\"binary_crossentropy\", optimizer=\"adam\", metrics=[\"accuracy\"])"
   ]
  },
  {
   "cell_type": "code",
   "execution_count": 34,
   "id": "1862787a",
   "metadata": {},
   "outputs": [
    {
     "name": "stdout",
     "output_type": "stream",
     "text": [
      "Epoch 1/65\n",
      "28/28 [==============================] - 1s 1ms/step - loss: 0.5867 - accuracy: 0.7948\n",
      "Epoch 2/65\n",
      "28/28 [==============================] - 0s 2ms/step - loss: 0.4871 - accuracy: 0.8537\n",
      "Epoch 3/65\n",
      "28/28 [==============================] - 0s 2ms/step - loss: 0.4160 - accuracy: 0.8549\n",
      "Epoch 4/65\n",
      "28/28 [==============================] - 0s 2ms/step - loss: 0.3736 - accuracy: 0.8571\n",
      "Epoch 5/65\n",
      "28/28 [==============================] - 0s 2ms/step - loss: 0.3492 - accuracy: 0.8594\n",
      "Epoch 6/65\n",
      "28/28 [==============================] - 0s 3ms/step - loss: 0.3330 - accuracy: 0.8605\n",
      "Epoch 7/65\n",
      "28/28 [==============================] - 0s 2ms/step - loss: 0.3204 - accuracy: 0.8696\n",
      "Epoch 8/65\n",
      "28/28 [==============================] - 0s 2ms/step - loss: 0.3091 - accuracy: 0.8753\n",
      "Epoch 9/65\n",
      "28/28 [==============================] - 0s 2ms/step - loss: 0.3001 - accuracy: 0.8787\n",
      "Epoch 10/65\n",
      "28/28 [==============================] - 0s 2ms/step - loss: 0.2910 - accuracy: 0.8832\n",
      "Epoch 11/65\n",
      "28/28 [==============================] - 0s 2ms/step - loss: 0.2820 - accuracy: 0.8866\n",
      "Epoch 12/65\n",
      "28/28 [==============================] - 0s 2ms/step - loss: 0.2742 - accuracy: 0.8912\n",
      "Epoch 13/65\n",
      "28/28 [==============================] - 0s 2ms/step - loss: 0.2666 - accuracy: 0.8934\n",
      "Epoch 14/65\n",
      "28/28 [==============================] - 0s 2ms/step - loss: 0.2595 - accuracy: 0.8946\n",
      "Epoch 15/65\n",
      "28/28 [==============================] - 0s 2ms/step - loss: 0.2528 - accuracy: 0.8991\n",
      "Epoch 16/65\n",
      "28/28 [==============================] - 0s 2ms/step - loss: 0.2463 - accuracy: 0.9036\n",
      "Epoch 17/65\n",
      "28/28 [==============================] - 0s 2ms/step - loss: 0.2410 - accuracy: 0.9048\n",
      "Epoch 18/65\n",
      "28/28 [==============================] - 0s 2ms/step - loss: 0.2345 - accuracy: 0.9127\n",
      "Epoch 19/65\n",
      "28/28 [==============================] - 0s 2ms/step - loss: 0.2284 - accuracy: 0.9127\n",
      "Epoch 20/65\n",
      "28/28 [==============================] - 0s 2ms/step - loss: 0.2228 - accuracy: 0.9150\n",
      "Epoch 21/65\n",
      "28/28 [==============================] - 0s 2ms/step - loss: 0.2165 - accuracy: 0.9150\n",
      "Epoch 22/65\n",
      "28/28 [==============================] - 0s 1ms/step - loss: 0.2110 - accuracy: 0.9218\n",
      "Epoch 23/65\n",
      "28/28 [==============================] - 0s 2ms/step - loss: 0.2060 - accuracy: 0.9184\n",
      "Epoch 24/65\n",
      "28/28 [==============================] - 0s 2ms/step - loss: 0.2000 - accuracy: 0.9206\n",
      "Epoch 25/65\n",
      "28/28 [==============================] - 0s 2ms/step - loss: 0.1951 - accuracy: 0.9229\n",
      "Epoch 26/65\n",
      "28/28 [==============================] - 0s 2ms/step - loss: 0.1897 - accuracy: 0.9263\n",
      "Epoch 27/65\n",
      "28/28 [==============================] - 0s 2ms/step - loss: 0.1852 - accuracy: 0.9240\n",
      "Epoch 28/65\n",
      "28/28 [==============================] - 0s 2ms/step - loss: 0.1788 - accuracy: 0.9286\n",
      "Epoch 29/65\n",
      "28/28 [==============================] - 0s 3ms/step - loss: 0.1734 - accuracy: 0.9308\n",
      "Epoch 30/65\n",
      "28/28 [==============================] - 0s 2ms/step - loss: 0.1676 - accuracy: 0.9354\n",
      "Epoch 31/65\n",
      "28/28 [==============================] - 0s 2ms/step - loss: 0.1621 - accuracy: 0.9399\n",
      "Epoch 32/65\n",
      "28/28 [==============================] - 0s 2ms/step - loss: 0.1572 - accuracy: 0.9399\n",
      "Epoch 33/65\n",
      "28/28 [==============================] - 0s 2ms/step - loss: 0.1520 - accuracy: 0.9422\n",
      "Epoch 34/65\n",
      "28/28 [==============================] - 0s 2ms/step - loss: 0.1478 - accuracy: 0.9410\n",
      "Epoch 35/65\n",
      "28/28 [==============================] - 0s 2ms/step - loss: 0.1434 - accuracy: 0.9490\n",
      "Epoch 36/65\n",
      "28/28 [==============================] - 0s 1ms/step - loss: 0.1382 - accuracy: 0.9467\n",
      "Epoch 37/65\n",
      "28/28 [==============================] - 0s 1ms/step - loss: 0.1324 - accuracy: 0.9501\n",
      "Epoch 38/65\n",
      "28/28 [==============================] - 0s 2ms/step - loss: 0.1278 - accuracy: 0.9524\n",
      "Epoch 39/65\n",
      "28/28 [==============================] - 0s 2ms/step - loss: 0.1228 - accuracy: 0.9569\n",
      "Epoch 40/65\n",
      "28/28 [==============================] - 0s 1ms/step - loss: 0.1192 - accuracy: 0.9546\n",
      "Epoch 41/65\n",
      "28/28 [==============================] - 0s 2ms/step - loss: 0.1148 - accuracy: 0.9603\n",
      "Epoch 42/65\n",
      "28/28 [==============================] - 0s 2ms/step - loss: 0.1096 - accuracy: 0.9592\n",
      "Epoch 43/65\n",
      "28/28 [==============================] - 0s 2ms/step - loss: 0.1064 - accuracy: 0.9603\n",
      "Epoch 44/65\n",
      "28/28 [==============================] - 0s 2ms/step - loss: 0.1026 - accuracy: 0.9683\n",
      "Epoch 45/65\n",
      "28/28 [==============================] - 0s 2ms/step - loss: 0.0974 - accuracy: 0.9649\n",
      "Epoch 46/65\n",
      "28/28 [==============================] - 0s 2ms/step - loss: 0.0933 - accuracy: 0.9694\n",
      "Epoch 47/65\n",
      "28/28 [==============================] - 0s 2ms/step - loss: 0.0902 - accuracy: 0.9694\n",
      "Epoch 48/65\n",
      "28/28 [==============================] - 0s 2ms/step - loss: 0.0855 - accuracy: 0.9694\n",
      "Epoch 49/65\n",
      "28/28 [==============================] - 0s 2ms/step - loss: 0.0817 - accuracy: 0.9728\n",
      "Epoch 50/65\n",
      "28/28 [==============================] - 0s 2ms/step - loss: 0.0787 - accuracy: 0.9739\n",
      "Epoch 51/65\n",
      "28/28 [==============================] - 0s 2ms/step - loss: 0.0741 - accuracy: 0.9728\n",
      "Epoch 52/65\n",
      "28/28 [==============================] - 0s 2ms/step - loss: 0.0712 - accuracy: 0.9739\n",
      "Epoch 53/65\n",
      "28/28 [==============================] - 0s 2ms/step - loss: 0.0675 - accuracy: 0.9762\n",
      "Epoch 54/65\n",
      "28/28 [==============================] - 0s 1ms/step - loss: 0.0641 - accuracy: 0.9807\n",
      "Epoch 55/65\n",
      "28/28 [==============================] - 0s 1ms/step - loss: 0.0616 - accuracy: 0.9807\n",
      "Epoch 56/65\n",
      "28/28 [==============================] - 0s 1ms/step - loss: 0.0585 - accuracy: 0.9785\n",
      "Epoch 57/65\n",
      "28/28 [==============================] - 0s 1ms/step - loss: 0.0558 - accuracy: 0.9841\n",
      "Epoch 58/65\n",
      "28/28 [==============================] - 0s 1ms/step - loss: 0.0534 - accuracy: 0.9853\n",
      "Epoch 59/65\n",
      "28/28 [==============================] - 0s 1ms/step - loss: 0.0515 - accuracy: 0.9853\n",
      "Epoch 60/65\n",
      "28/28 [==============================] - 0s 2ms/step - loss: 0.0490 - accuracy: 0.9887\n",
      "Epoch 61/65\n",
      "28/28 [==============================] - 0s 1ms/step - loss: 0.0463 - accuracy: 0.9887\n",
      "Epoch 62/65\n",
      "28/28 [==============================] - 0s 1ms/step - loss: 0.0446 - accuracy: 0.9909\n",
      "Epoch 63/65\n",
      "28/28 [==============================] - 0s 1ms/step - loss: 0.0427 - accuracy: 0.9898\n",
      "Epoch 64/65\n",
      "28/28 [==============================] - 0s 1ms/step - loss: 0.0407 - accuracy: 0.9898\n",
      "Epoch 65/65\n",
      "28/28 [==============================] - 0s 1ms/step - loss: 0.0386 - accuracy: 0.9909\n"
     ]
    }
   ],
   "source": [
    "# Train the model\n",
    "fit_model = nn.fit(X_train, y_train,epochs=65)"
   ]
  },
  {
   "cell_type": "code",
   "execution_count": 35,
   "id": "b50439b4",
   "metadata": {},
   "outputs": [
    {
     "name": "stdout",
     "output_type": "stream",
     "text": [
      "10/10 - 0s - loss: 0.5098 - accuracy: 0.8571 - 139ms/epoch - 14ms/step\n",
      "Loss: 0.5097745060920715, Accuracy: 0.8571428656578064\n"
     ]
    }
   ],
   "source": [
    "# Evaluate the model using the test data\n",
    "model_loss, model_accuracy = nn.evaluate(X_test, y_test,verbose=2)\n",
    "print(f\"Loss: {model_loss}, Accuracy: {model_accuracy}\")"
   ]
  }
 ],
 "metadata": {
  "kernelspec": {
   "display_name": "Python 3 (ipykernel)",
   "language": "python",
   "name": "python3"
  },
  "language_info": {
   "codemirror_mode": {
    "name": "ipython",
    "version": 3
   },
   "file_extension": ".py",
   "mimetype": "text/x-python",
   "name": "python",
   "nbconvert_exporter": "python",
   "pygments_lexer": "ipython3",
   "version": "3.9.7"
  }
 },
 "nbformat": 4,
 "nbformat_minor": 5
}
